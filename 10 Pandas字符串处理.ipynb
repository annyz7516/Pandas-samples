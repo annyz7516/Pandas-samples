{
 "cells": [
  {
   "cell_type": "markdown",
   "id": "a87400b6",
   "metadata": {},
   "source": [
    "#### Pandas字符串处理\n",
    "前面我们已经使用了字符串的处理函数：\n",
    "df['revenues'].str.replace('$','').astype('float')\n",
    "##### Pandas的字符串处理：\n",
    "1. 使用方法：先获取Series的str属性，然后在属性上调用函数；\n",
    "2. 只能在字符串列上使用，不能在数字列上使用；\n",
    "3. DataFrame上没有str属性和处理方法；\n",
    "4. Series.str并不是Python原生字符串，而是自己的一套方法，不过大部分和原生str很相似；\n",
    "\n",
    "##### 本节演示内容：\n",
    "1. 获取Series的str属性，然后使用各种字符串处理函数\n",
    "2. 使用str的startwith、contains等bool类Series可以做条件查询\n",
    "3. 需要多次str处理的链式操作\n",
    "4. 使用正则表达式的处理"
   ]
  },
  {
   "cell_type": "markdown",
   "id": "4e7d3c79",
   "metadata": {},
   "source": [
    "#### 读取数据"
   ]
  },
  {
   "cell_type": "code",
   "execution_count": 2,
   "id": "4e462eeb",
   "metadata": {},
   "outputs": [],
   "source": [
    "import pandas as pd"
   ]
  },
  {
   "cell_type": "code",
   "execution_count": 3,
   "id": "8173e324",
   "metadata": {},
   "outputs": [],
   "source": [
    "fpath = \"C:/Users/pxpxz_ct9p1p3/Downloads/Fortune_1000_Companies_by_Revenue.csv\"\n",
    "df = pd.read_csv(fpath)"
   ]
  },
  {
   "cell_type": "markdown",
   "id": "5594a93a",
   "metadata": {},
   "source": [
    "#### 1、获取Series的str属性，使用各种字符串处理函数"
   ]
  },
  {
   "cell_type": "code",
   "execution_count": 4,
   "id": "aa7ce0dd",
   "metadata": {},
   "outputs": [
    {
     "data": {
      "text/plain": [
       "<pandas.core.strings.accessor.StringMethods at 0x1f97c51e160>"
      ]
     },
     "execution_count": 4,
     "metadata": {},
     "output_type": "execute_result"
    }
   ],
   "source": [
    "df['revenues'].str"
   ]
  },
  {
   "cell_type": "code",
   "execution_count": null,
   "id": "c6fa5a6f",
   "metadata": {},
   "outputs": [],
   "source": [
    "# 字符串替换函数\n",
    "df['revenues'].str.replace('$','')"
   ]
  },
  {
   "cell_type": "code",
   "execution_count": 5,
   "id": "018083ca",
   "metadata": {},
   "outputs": [
    {
     "data": {
      "text/plain": [
       "0      False\n",
       "1      False\n",
       "2      False\n",
       "3      False\n",
       "4      False\n",
       "       ...  \n",
       "995    False\n",
       "996    False\n",
       "997    False\n",
       "998    False\n",
       "999    False\n",
       "Name: revenues, Length: 1000, dtype: bool"
      ]
     },
     "execution_count": 5,
     "metadata": {},
     "output_type": "execute_result"
    }
   ],
   "source": [
    "# 判断是不是数字\n",
    "df['revenues'].str.isnumeric()"
   ]
  },
  {
   "cell_type": "code",
   "execution_count": 6,
   "id": "b2142302",
   "metadata": {},
   "outputs": [
    {
     "data": {
      "text/plain": [
       "0       9\n",
       "1       9\n",
       "2       9\n",
       "3       9\n",
       "4       9\n",
       "       ..\n",
       "995     7\n",
       "996    10\n",
       "997    10\n",
       "998     7\n",
       "999    10\n",
       "Name: revenues, Length: 1000, dtype: int64"
      ]
     },
     "execution_count": 6,
     "metadata": {},
     "output_type": "execute_result"
    }
   ],
   "source": [
    "df['revenues'].str.len() # 不可以用于数字列"
   ]
  },
  {
   "cell_type": "markdown",
   "id": "d3608488",
   "metadata": {},
   "source": [
    "#### 2、使用str的startswith、contains等得到bool的Series可以做条件查询"
   ]
  },
  {
   "cell_type": "code",
   "execution_count": 7,
   "id": "4d20bc2c",
   "metadata": {},
   "outputs": [],
   "source": [
    "condition = df['name'].str.startswith('A')"
   ]
  },
  {
   "cell_type": "code",
   "execution_count": 8,
   "id": "a8288494",
   "metadata": {},
   "outputs": [
    {
     "data": {
      "text/plain": [
       "0      False\n",
       "1       True\n",
       "2       True\n",
       "3      False\n",
       "4      False\n",
       "       ...  \n",
       "995    False\n",
       "996    False\n",
       "997    False\n",
       "998     True\n",
       "999    False\n",
       "Name: name, Length: 1000, dtype: bool"
      ]
     },
     "execution_count": 8,
     "metadata": {},
     "output_type": "execute_result"
    }
   ],
   "source": [
    "condition"
   ]
  },
  {
   "cell_type": "code",
   "execution_count": 9,
   "id": "09b7e0d2",
   "metadata": {},
   "outputs": [
    {
     "data": {
      "text/html": [
       "<div>\n",
       "<style scoped>\n",
       "    .dataframe tbody tr th:only-of-type {\n",
       "        vertical-align: middle;\n",
       "    }\n",
       "\n",
       "    .dataframe tbody tr th {\n",
       "        vertical-align: top;\n",
       "    }\n",
       "\n",
       "    .dataframe thead th {\n",
       "        text-align: right;\n",
       "    }\n",
       "</style>\n",
       "<table border=\"1\" class=\"dataframe\">\n",
       "  <thead>\n",
       "    <tr style=\"text-align: right;\">\n",
       "      <th></th>\n",
       "      <th>rank</th>\n",
       "      <th>name</th>\n",
       "      <th>revenues</th>\n",
       "      <th>revenue_percent_change</th>\n",
       "      <th>profits</th>\n",
       "      <th>profits_percent_change</th>\n",
       "      <th>assets</th>\n",
       "      <th>market_value</th>\n",
       "      <th>change_in_rank</th>\n",
       "      <th>employees</th>\n",
       "    </tr>\n",
       "  </thead>\n",
       "  <tbody>\n",
       "    <tr>\n",
       "      <th>1</th>\n",
       "      <td>2</td>\n",
       "      <td>Amazon</td>\n",
       "      <td>$469,822</td>\n",
       "      <td>21.70%</td>\n",
       "      <td>$33,364</td>\n",
       "      <td>56.40%</td>\n",
       "      <td>$420,549</td>\n",
       "      <td>$1,658,807.30</td>\n",
       "      <td>-</td>\n",
       "      <td>1,608,000</td>\n",
       "    </tr>\n",
       "    <tr>\n",
       "      <th>2</th>\n",
       "      <td>3</td>\n",
       "      <td>Apple</td>\n",
       "      <td>$365,817</td>\n",
       "      <td>33.30%</td>\n",
       "      <td>$94,680</td>\n",
       "      <td>64.90%</td>\n",
       "      <td>$351,002</td>\n",
       "      <td>$2,849,537.60</td>\n",
       "      <td>-</td>\n",
       "      <td>154,000</td>\n",
       "    </tr>\n",
       "    <tr>\n",
       "      <th>7</th>\n",
       "      <td>8</td>\n",
       "      <td>Alphabet</td>\n",
       "      <td>$257,637</td>\n",
       "      <td>41.20%</td>\n",
       "      <td>$76,033</td>\n",
       "      <td>88.80%</td>\n",
       "      <td>$359,268</td>\n",
       "      <td>$1,842,326.10</td>\n",
       "      <td>1</td>\n",
       "      <td>156,500</td>\n",
       "    </tr>\n",
       "    <tr>\n",
       "      <th>9</th>\n",
       "      <td>10</td>\n",
       "      <td>AmerisourceBergen</td>\n",
       "      <td>$213,988.80</td>\n",
       "      <td>12.70%</td>\n",
       "      <td>$1,539.90</td>\n",
       "      <td>-</td>\n",
       "      <td>$57,337.80</td>\n",
       "      <td>$32,355.70</td>\n",
       "      <td>-2</td>\n",
       "      <td>40,000</td>\n",
       "    </tr>\n",
       "    <tr>\n",
       "      <th>12</th>\n",
       "      <td>13</td>\n",
       "      <td>AT&amp;T</td>\n",
       "      <td>$168,864</td>\n",
       "      <td>-1.70%</td>\n",
       "      <td>$20,081</td>\n",
       "      <td>-</td>\n",
       "      <td>$551,622</td>\n",
       "      <td>$169,262.40</td>\n",
       "      <td>-2</td>\n",
       "      <td>202,600</td>\n",
       "    </tr>\n",
       "  </tbody>\n",
       "</table>\n",
       "</div>"
      ],
      "text/plain": [
       "   rank               name      revenues revenue_percent_change     profits  \\\n",
       "1     2             Amazon     $469,822                  21.70%    $33,364    \n",
       "2     3              Apple     $365,817                  33.30%    $94,680    \n",
       "7     8           Alphabet     $257,637                  41.20%    $76,033    \n",
       "9    10  AmerisourceBergen  $213,988.80                  12.70%  $1,539.90    \n",
       "12   13               AT&T     $168,864                  -1.70%    $20,081    \n",
       "\n",
       "   profits_percent_change       assets    market_value change_in_rank  \\\n",
       "1                  56.40%    $420,549   $1,658,807.30               -   \n",
       "2                  64.90%    $351,002   $2,849,537.60               -   \n",
       "7                  88.80%    $359,268   $1,842,326.10               1   \n",
       "9                       -  $57,337.80      $32,355.70              -2   \n",
       "12                      -    $551,622     $169,262.40              -2   \n",
       "\n",
       "    employees  \n",
       "1   1,608,000  \n",
       "2     154,000  \n",
       "7     156,500  \n",
       "9      40,000  \n",
       "12    202,600  "
      ]
     },
     "execution_count": 9,
     "metadata": {},
     "output_type": "execute_result"
    }
   ],
   "source": [
    "df[condition].head()"
   ]
  },
  {
   "cell_type": "markdown",
   "id": "9788c718",
   "metadata": {},
   "source": [
    "#### 3、需要多次str处理的链式操作\n",
    "怎样提取纯数字，如$234,567 --> 234567"
   ]
  },
  {
   "cell_type": "code",
   "execution_count": null,
   "id": "2f5bf003",
   "metadata": {},
   "outputs": [],
   "source": [
    "df['profits'].str.replace('$','').str.replace(',','').str.replace('-','1').str.replace('(','').str.replace(')','').astype(float)"
   ]
  },
  {
   "cell_type": "code",
   "execution_count": 11,
   "id": "a3ed2a13",
   "metadata": {},
   "outputs": [
    {
     "ename": "AttributeError",
     "evalue": "'Series' object has no attribute 'slice'",
     "output_type": "error",
     "traceback": [
      "\u001b[1;31m---------------------------------------------------------------------------\u001b[0m",
      "\u001b[1;31mAttributeError\u001b[0m                            Traceback (most recent call last)",
      "\u001b[1;32mC:\\Users\\PXPXZ_~1\\AppData\\Local\\Temp/ipykernel_17932/1893433057.py\u001b[0m in \u001b[0;36m<module>\u001b[1;34m\u001b[0m\n\u001b[0;32m      1\u001b[0m \u001b[1;31m# 每次调用函数都返回一个新的Series\u001b[0m\u001b[1;33m\u001b[0m\u001b[1;33m\u001b[0m\u001b[0m\n\u001b[1;32m----> 2\u001b[1;33m \u001b[0mdf\u001b[0m\u001b[1;33m[\u001b[0m\u001b[1;34m'name'\u001b[0m\u001b[1;33m]\u001b[0m\u001b[1;33m.\u001b[0m\u001b[0mstr\u001b[0m\u001b[1;33m.\u001b[0m\u001b[0mreplace\u001b[0m\u001b[1;33m(\u001b[0m\u001b[1;34m'b'\u001b[0m\u001b[1;33m,\u001b[0m\u001b[1;34m'B'\u001b[0m\u001b[1;33m)\u001b[0m\u001b[1;33m.\u001b[0m\u001b[0mslice\u001b[0m\u001b[1;33m(\u001b[0m\u001b[1;36m0\u001b[0m\u001b[1;33m,\u001b[0m\u001b[1;36m6\u001b[0m\u001b[1;33m)\u001b[0m\u001b[1;33m\u001b[0m\u001b[1;33m\u001b[0m\u001b[0m\n\u001b[0m",
      "\u001b[1;32m~\\anaconda3\\lib\\site-packages\\pandas\\core\\generic.py\u001b[0m in \u001b[0;36m__getattr__\u001b[1;34m(self, name)\u001b[0m\n\u001b[0;32m   5485\u001b[0m         ):\n\u001b[0;32m   5486\u001b[0m             \u001b[1;32mreturn\u001b[0m \u001b[0mself\u001b[0m\u001b[1;33m[\u001b[0m\u001b[0mname\u001b[0m\u001b[1;33m]\u001b[0m\u001b[1;33m\u001b[0m\u001b[1;33m\u001b[0m\u001b[0m\n\u001b[1;32m-> 5487\u001b[1;33m         \u001b[1;32mreturn\u001b[0m \u001b[0mobject\u001b[0m\u001b[1;33m.\u001b[0m\u001b[0m__getattribute__\u001b[0m\u001b[1;33m(\u001b[0m\u001b[0mself\u001b[0m\u001b[1;33m,\u001b[0m \u001b[0mname\u001b[0m\u001b[1;33m)\u001b[0m\u001b[1;33m\u001b[0m\u001b[1;33m\u001b[0m\u001b[0m\n\u001b[0m\u001b[0;32m   5488\u001b[0m \u001b[1;33m\u001b[0m\u001b[0m\n\u001b[0;32m   5489\u001b[0m     \u001b[1;32mdef\u001b[0m \u001b[0m__setattr__\u001b[0m\u001b[1;33m(\u001b[0m\u001b[0mself\u001b[0m\u001b[1;33m,\u001b[0m \u001b[0mname\u001b[0m\u001b[1;33m:\u001b[0m \u001b[0mstr\u001b[0m\u001b[1;33m,\u001b[0m \u001b[0mvalue\u001b[0m\u001b[1;33m)\u001b[0m \u001b[1;33m->\u001b[0m \u001b[1;32mNone\u001b[0m\u001b[1;33m:\u001b[0m\u001b[1;33m\u001b[0m\u001b[1;33m\u001b[0m\u001b[0m\n",
      "\u001b[1;31mAttributeError\u001b[0m: 'Series' object has no attribute 'slice'"
     ]
    }
   ],
   "source": [
    "# 每次调用函数都返回一个新的Series\n",
    "df['name'].str.replace('b','B').slice(0,6) # 报错！！！AttributeError: 'Series' object has no attribute 'slice'"
   ]
  },
  {
   "cell_type": "code",
   "execution_count": 12,
   "id": "b9714064",
   "metadata": {},
   "outputs": [
    {
     "data": {
      "text/plain": [
       "0      Walmar\n",
       "1      Amazon\n",
       "2       Apple\n",
       "3      CVS He\n",
       "4      United\n",
       "        ...  \n",
       "995    Vizio \n",
       "996    1-800-\n",
       "997     Cowen\n",
       "998    Ashlan\n",
       "999    DocuSi\n",
       "Name: name, Length: 1000, dtype: object"
      ]
     },
     "execution_count": 12,
     "metadata": {},
     "output_type": "execute_result"
    }
   ],
   "source": [
    "# 所以每次调用series属性方法都要先获取series的str属性\n",
    "df['name'].str.replace('b','B').str.slice(0,6)"
   ]
  },
  {
   "cell_type": "code",
   "execution_count": 13,
   "id": "4b967f1a",
   "metadata": {},
   "outputs": [
    {
     "data": {
      "text/plain": [
       "0      WAlmAr\n",
       "1      AmAzon\n",
       "2       Apple\n",
       "3      CVS He\n",
       "4      United\n",
       "        ...  \n",
       "995    Vizio \n",
       "996    1-800-\n",
       "997     Cowen\n",
       "998    AshlAn\n",
       "999    DocuSi\n",
       "Name: name, Length: 1000, dtype: object"
      ]
     },
     "execution_count": 13,
     "metadata": {},
     "output_type": "execute_result"
    }
   ],
   "source": [
    "# slice就是切片语法，可以直接用\n",
    "df['name'].str.replace('a','A').str[0:6]"
   ]
  },
  {
   "cell_type": "markdown",
   "id": "8a54eee4",
   "metadata": {},
   "source": [
    "#### 4、使用正则表达式的处理"
   ]
  },
  {
   "cell_type": "markdown",
   "id": "f667d9e7",
   "metadata": {},
   "source": [
    "#### 问题：怎样将‘$123,456’中的$和,去除"
   ]
  },
  {
   "cell_type": "code",
   "execution_count": null,
   "id": "dc7a2124",
   "metadata": {},
   "outputs": [],
   "source": [
    "# 方法1：链式replace\n",
    "df['revenues'].str.replace('$','').str.replace(',','')"
   ]
  },
  {
   "cell_type": "code",
   "execution_count": 14,
   "id": "7122535b",
   "metadata": {},
   "outputs": [
    {
     "name": "stderr",
     "output_type": "stream",
     "text": [
      "C:\\Users\\PXPXZ_~1\\AppData\\Local\\Temp/ipykernel_17932/2275484552.py:2: FutureWarning: The default value of regex will change from True to False in a future version.\n",
      "  df['revenues'].str.replace('[$,]','')\n"
     ]
    },
    {
     "data": {
      "text/plain": [
       "0       572754 \n",
       "1       469822 \n",
       "2       365817 \n",
       "3       292111 \n",
       "4       287597 \n",
       "         ...   \n",
       "995       2124 \n",
       "996    2122.20 \n",
       "997    2112.80 \n",
       "998       2111 \n",
       "999    2107.20 \n",
       "Name: revenues, Length: 1000, dtype: object"
      ]
     },
     "execution_count": 14,
     "metadata": {},
     "output_type": "execute_result"
    }
   ],
   "source": [
    "# 方法2：正则表达式替换\n",
    "df['revenues'].str.replace('[$,]','')"
   ]
  },
  {
   "cell_type": "code",
   "execution_count": null,
   "id": "1db332cb",
   "metadata": {},
   "outputs": [],
   "source": []
  }
 ],
 "metadata": {
  "kernelspec": {
   "display_name": "Python 3 (ipykernel)",
   "language": "python",
   "name": "python3"
  },
  "language_info": {
   "codemirror_mode": {
    "name": "ipython",
    "version": 3
   },
   "file_extension": ".py",
   "mimetype": "text/x-python",
   "name": "python",
   "nbconvert_exporter": "python",
   "pygments_lexer": "ipython3",
   "version": "3.10.1"
  }
 },
 "nbformat": 4,
 "nbformat_minor": 5
}
