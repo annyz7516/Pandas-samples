{
 "cells": [
  {
   "cell_type": "markdown",
   "id": "339c3fa4-3a4b-4f36-92fd-2936a1028958",
   "metadata": {},
   "source": [
    "#### Pandas怎么实现Excel的vlookup并且在指定列后面输出？\n",
    "背景：\n",
    "1. 有两个excel，他们有相同的一个列；\n",
    "2. 按照这个列合并成一个大的excel，即vlookup功能，要求：\n",
    "    + 只需要第二个excel的少量的列，比如从40个列中挑选2列\n",
    "    + 新增的来自第二个excel的列需要放到第一个excel指定的列后面；\n",
    "3.将结果输出到一个新的excel"
   ]
  },
  {
   "cell_type": "markdown",
   "id": "3b32bf63-2a8e-430b-9faa-142b966f035d",
   "metadata": {},
   "source": [
    "#### 步骤1： 读取两个数据表"
   ]
  },
  {
   "cell_type": "code",
   "execution_count": 16,
   "id": "cf2fc12b-476d-4cd4-9862-dbc49ca43aa6",
   "metadata": {},
   "outputs": [],
   "source": [
    "import pandas as pd"
   ]
  },
  {
   "cell_type": "code",
   "execution_count": 30,
   "id": "0f60e3ff-e46c-45d0-bf08-63b437389a74",
   "metadata": {},
   "outputs": [
    {
     "data": {
      "text/html": [
       "<div>\n",
       "<style scoped>\n",
       "    .dataframe tbody tr th:only-of-type {\n",
       "        vertical-align: middle;\n",
       "    }\n",
       "\n",
       "    .dataframe tbody tr th {\n",
       "        vertical-align: top;\n",
       "    }\n",
       "\n",
       "    .dataframe thead th {\n",
       "        text-align: right;\n",
       "    }\n",
       "</style>\n",
       "<table border=\"1\" class=\"dataframe\">\n",
       "  <thead>\n",
       "    <tr style=\"text-align: right;\">\n",
       "      <th></th>\n",
       "      <th>class</th>\n",
       "      <th>studentId</th>\n",
       "      <th>unit1_score</th>\n",
       "      <th>unit2_score</th>\n",
       "      <th>unit3_score</th>\n",
       "    </tr>\n",
       "  </thead>\n",
       "  <tbody>\n",
       "    <tr>\n",
       "      <th>0</th>\n",
       "      <td>c01</td>\n",
       "      <td>1</td>\n",
       "      <td>56</td>\n",
       "      <td>21</td>\n",
       "      <td>95</td>\n",
       "    </tr>\n",
       "    <tr>\n",
       "      <th>1</th>\n",
       "      <td>c01</td>\n",
       "      <td>2</td>\n",
       "      <td>58</td>\n",
       "      <td>22</td>\n",
       "      <td>92</td>\n",
       "    </tr>\n",
       "    <tr>\n",
       "      <th>2</th>\n",
       "      <td>c01</td>\n",
       "      <td>3</td>\n",
       "      <td>60</td>\n",
       "      <td>23</td>\n",
       "      <td>89</td>\n",
       "    </tr>\n",
       "    <tr>\n",
       "      <th>3</th>\n",
       "      <td>c01</td>\n",
       "      <td>4</td>\n",
       "      <td>62</td>\n",
       "      <td>24</td>\n",
       "      <td>86</td>\n",
       "    </tr>\n",
       "    <tr>\n",
       "      <th>4</th>\n",
       "      <td>c01</td>\n",
       "      <td>5</td>\n",
       "      <td>64</td>\n",
       "      <td>25</td>\n",
       "      <td>83</td>\n",
       "    </tr>\n",
       "    <tr>\n",
       "      <th>5</th>\n",
       "      <td>c01</td>\n",
       "      <td>6</td>\n",
       "      <td>66</td>\n",
       "      <td>26</td>\n",
       "      <td>80</td>\n",
       "    </tr>\n",
       "    <tr>\n",
       "      <th>6</th>\n",
       "      <td>c01</td>\n",
       "      <td>7</td>\n",
       "      <td>68</td>\n",
       "      <td>27</td>\n",
       "      <td>77</td>\n",
       "    </tr>\n",
       "    <tr>\n",
       "      <th>7</th>\n",
       "      <td>c02</td>\n",
       "      <td>8</td>\n",
       "      <td>70</td>\n",
       "      <td>28</td>\n",
       "      <td>74</td>\n",
       "    </tr>\n",
       "    <tr>\n",
       "      <th>8</th>\n",
       "      <td>c02</td>\n",
       "      <td>9</td>\n",
       "      <td>72</td>\n",
       "      <td>29</td>\n",
       "      <td>71</td>\n",
       "    </tr>\n",
       "    <tr>\n",
       "      <th>9</th>\n",
       "      <td>c02</td>\n",
       "      <td>10</td>\n",
       "      <td>74</td>\n",
       "      <td>30</td>\n",
       "      <td>68</td>\n",
       "    </tr>\n",
       "    <tr>\n",
       "      <th>10</th>\n",
       "      <td>c02</td>\n",
       "      <td>11</td>\n",
       "      <td>76</td>\n",
       "      <td>31</td>\n",
       "      <td>65</td>\n",
       "    </tr>\n",
       "    <tr>\n",
       "      <th>11</th>\n",
       "      <td>c03</td>\n",
       "      <td>12</td>\n",
       "      <td>78</td>\n",
       "      <td>32</td>\n",
       "      <td>62</td>\n",
       "    </tr>\n",
       "    <tr>\n",
       "      <th>12</th>\n",
       "      <td>c03</td>\n",
       "      <td>13</td>\n",
       "      <td>80</td>\n",
       "      <td>33</td>\n",
       "      <td>59</td>\n",
       "    </tr>\n",
       "    <tr>\n",
       "      <th>13</th>\n",
       "      <td>c03</td>\n",
       "      <td>14</td>\n",
       "      <td>82</td>\n",
       "      <td>34</td>\n",
       "      <td>56</td>\n",
       "    </tr>\n",
       "    <tr>\n",
       "      <th>14</th>\n",
       "      <td>c03</td>\n",
       "      <td>15</td>\n",
       "      <td>84</td>\n",
       "      <td>35</td>\n",
       "      <td>53</td>\n",
       "    </tr>\n",
       "    <tr>\n",
       "      <th>15</th>\n",
       "      <td>c03</td>\n",
       "      <td>16</td>\n",
       "      <td>86</td>\n",
       "      <td>36</td>\n",
       "      <td>50</td>\n",
       "    </tr>\n",
       "  </tbody>\n",
       "</table>\n",
       "</div>"
      ],
      "text/plain": [
       "   class  studentId  unit1_score  unit2_score  unit3_score\n",
       "0    c01          1           56           21           95\n",
       "1    c01          2           58           22           92\n",
       "2    c01          3           60           23           89\n",
       "3    c01          4           62           24           86\n",
       "4    c01          5           64           25           83\n",
       "5    c01          6           66           26           80\n",
       "6    c01          7           68           27           77\n",
       "7    c02          8           70           28           74\n",
       "8    c02          9           72           29           71\n",
       "9    c02         10           74           30           68\n",
       "10   c02         11           76           31           65\n",
       "11   c03         12           78           32           62\n",
       "12   c03         13           80           33           59\n",
       "13   c03         14           82           34           56\n",
       "14   c03         15           84           35           53\n",
       "15   c03         16           86           36           50"
      ]
     },
     "execution_count": 30,
     "metadata": {},
     "output_type": "execute_result"
    }
   ],
   "source": [
    "# 学生成绩表\n",
    "df_grade = pd.read_excel('./files/students/student_scores.xlsx')\n",
    "df_grade"
   ]
  },
  {
   "cell_type": "code",
   "execution_count": 31,
   "id": "ac2ee0ac-1502-464e-80d2-0996f2107694",
   "metadata": {},
   "outputs": [
    {
     "data": {
      "text/plain": [
       "class          object\n",
       "studentId       int64\n",
       "unit1_score     int64\n",
       "unit2_score     int64\n",
       "unit3_score     int64\n",
       "dtype: object"
      ]
     },
     "execution_count": 31,
     "metadata": {},
     "output_type": "execute_result"
    }
   ],
   "source": [
    "df_grade.dtypes"
   ]
  },
  {
   "cell_type": "code",
   "execution_count": 32,
   "id": "b12c531f-2e62-452f-aaa0-adc7f97450bf",
   "metadata": {},
   "outputs": [],
   "source": [
    "# studentId是float类型，需改为int类型\n",
    "df_grade.studentId=df_grade.studentId.astype('int')"
   ]
  },
  {
   "cell_type": "code",
   "execution_count": 33,
   "id": "e7aa9806-41ad-4cdd-bd82-c57ab0d7ad65",
   "metadata": {},
   "outputs": [
    {
     "data": {
      "text/html": [
       "<div>\n",
       "<style scoped>\n",
       "    .dataframe tbody tr th:only-of-type {\n",
       "        vertical-align: middle;\n",
       "    }\n",
       "\n",
       "    .dataframe tbody tr th {\n",
       "        vertical-align: top;\n",
       "    }\n",
       "\n",
       "    .dataframe thead th {\n",
       "        text-align: right;\n",
       "    }\n",
       "</style>\n",
       "<table border=\"1\" class=\"dataframe\">\n",
       "  <thead>\n",
       "    <tr style=\"text-align: right;\">\n",
       "      <th></th>\n",
       "      <th>studentId</th>\n",
       "      <th>sname</th>\n",
       "      <th>sphone</th>\n",
       "      <th>sgender</th>\n",
       "      <th>sstate</th>\n",
       "    </tr>\n",
       "  </thead>\n",
       "  <tbody>\n",
       "    <tr>\n",
       "      <th>0</th>\n",
       "      <td>1</td>\n",
       "      <td>AAA</td>\n",
       "      <td>11111</td>\n",
       "      <td>f</td>\n",
       "      <td>nsw</td>\n",
       "    </tr>\n",
       "    <tr>\n",
       "      <th>1</th>\n",
       "      <td>2</td>\n",
       "      <td>BBB</td>\n",
       "      <td>22222</td>\n",
       "      <td>m</td>\n",
       "      <td>vic</td>\n",
       "    </tr>\n",
       "    <tr>\n",
       "      <th>2</th>\n",
       "      <td>3</td>\n",
       "      <td>CCC</td>\n",
       "      <td>33333</td>\n",
       "      <td>f</td>\n",
       "      <td>tas</td>\n",
       "    </tr>\n",
       "    <tr>\n",
       "      <th>3</th>\n",
       "      <td>4</td>\n",
       "      <td>DDD</td>\n",
       "      <td>44444</td>\n",
       "      <td>m</td>\n",
       "      <td>nsw</td>\n",
       "    </tr>\n",
       "    <tr>\n",
       "      <th>4</th>\n",
       "      <td>5</td>\n",
       "      <td>EEE</td>\n",
       "      <td>55555</td>\n",
       "      <td>m</td>\n",
       "      <td>qld</td>\n",
       "    </tr>\n",
       "  </tbody>\n",
       "</table>\n",
       "</div>"
      ],
      "text/plain": [
       "   studentId sname  sphone sgender sstate\n",
       "0          1   AAA   11111       f    nsw\n",
       "1          2   BBB   22222       m    vic\n",
       "2          3   CCC   33333       f    tas\n",
       "3          4   DDD   44444       m    nsw\n",
       "4          5   EEE   55555       m    qld"
      ]
     },
     "execution_count": 33,
     "metadata": {},
     "output_type": "execute_result"
    }
   ],
   "source": [
    "# 学生信息表\n",
    "df_info = pd.read_excel('./files/students/student_info.xlsx')\n",
    "df_info.head()"
   ]
  },
  {
   "cell_type": "code",
   "execution_count": 34,
   "id": "60f07685-2c94-4949-957d-4202629bda6c",
   "metadata": {},
   "outputs": [
    {
     "data": {
      "text/plain": [
       "studentId     int64\n",
       "sname        object\n",
       "sphone        int64\n",
       "sgender      object\n",
       "sstate       object\n",
       "dtype: object"
      ]
     },
     "execution_count": 34,
     "metadata": {},
     "output_type": "execute_result"
    }
   ],
   "source": [
    "df_info.dtypes"
   ]
  },
  {
   "cell_type": "markdown",
   "id": "74cd58e5-82e0-41a8-baed-f54f83064a5c",
   "metadata": {},
   "source": [
    "#### 目标：怎样将第二个‘学生信息表的姓名，性别两列添加要第一个表，并且放在学号列后面？"
   ]
  },
  {
   "cell_type": "markdown",
   "id": "47e77fb1-f230-4348-8817-67b234b3555b",
   "metadata": {},
   "source": [
    "#### 步骤2：实现两个表的关联\n",
    "即excel的vlookup功能"
   ]
  },
  {
   "cell_type": "code",
   "execution_count": 35,
   "id": "265d6e31-e561-46aa-9a8f-ca7f8b9f9269",
   "metadata": {},
   "outputs": [
    {
     "data": {
      "text/html": [
       "<div>\n",
       "<style scoped>\n",
       "    .dataframe tbody tr th:only-of-type {\n",
       "        vertical-align: middle;\n",
       "    }\n",
       "\n",
       "    .dataframe tbody tr th {\n",
       "        vertical-align: top;\n",
       "    }\n",
       "\n",
       "    .dataframe thead th {\n",
       "        text-align: right;\n",
       "    }\n",
       "</style>\n",
       "<table border=\"1\" class=\"dataframe\">\n",
       "  <thead>\n",
       "    <tr style=\"text-align: right;\">\n",
       "      <th></th>\n",
       "      <th>studentId</th>\n",
       "      <th>sname</th>\n",
       "      <th>sgender</th>\n",
       "    </tr>\n",
       "  </thead>\n",
       "  <tbody>\n",
       "    <tr>\n",
       "      <th>0</th>\n",
       "      <td>1</td>\n",
       "      <td>AAA</td>\n",
       "      <td>f</td>\n",
       "    </tr>\n",
       "    <tr>\n",
       "      <th>1</th>\n",
       "      <td>2</td>\n",
       "      <td>BBB</td>\n",
       "      <td>m</td>\n",
       "    </tr>\n",
       "    <tr>\n",
       "      <th>2</th>\n",
       "      <td>3</td>\n",
       "      <td>CCC</td>\n",
       "      <td>f</td>\n",
       "    </tr>\n",
       "    <tr>\n",
       "      <th>3</th>\n",
       "      <td>4</td>\n",
       "      <td>DDD</td>\n",
       "      <td>m</td>\n",
       "    </tr>\n",
       "    <tr>\n",
       "      <th>4</th>\n",
       "      <td>5</td>\n",
       "      <td>EEE</td>\n",
       "      <td>m</td>\n",
       "    </tr>\n",
       "  </tbody>\n",
       "</table>\n",
       "</div>"
      ],
      "text/plain": [
       "   studentId sname sgender\n",
       "0          1   AAA       f\n",
       "1          2   BBB       m\n",
       "2          3   CCC       f\n",
       "3          4   DDD       m\n",
       "4          5   EEE       m"
      ]
     },
     "execution_count": 35,
     "metadata": {},
     "output_type": "execute_result"
    }
   ],
   "source": [
    "# 只筛选第二个表的少量的列\n",
    "df_info=df_info[['studentId','sname','sgender']]\n",
    "df_info.head()"
   ]
  },
  {
   "cell_type": "code",
   "execution_count": 36,
   "id": "94934213-219d-40d3-93d2-57894258a8cf",
   "metadata": {},
   "outputs": [
    {
     "data": {
      "text/html": [
       "<div>\n",
       "<style scoped>\n",
       "    .dataframe tbody tr th:only-of-type {\n",
       "        vertical-align: middle;\n",
       "    }\n",
       "\n",
       "    .dataframe tbody tr th {\n",
       "        vertical-align: top;\n",
       "    }\n",
       "\n",
       "    .dataframe thead th {\n",
       "        text-align: right;\n",
       "    }\n",
       "</style>\n",
       "<table border=\"1\" class=\"dataframe\">\n",
       "  <thead>\n",
       "    <tr style=\"text-align: right;\">\n",
       "      <th></th>\n",
       "      <th>class</th>\n",
       "      <th>studentId</th>\n",
       "      <th>unit1_score</th>\n",
       "      <th>unit2_score</th>\n",
       "      <th>unit3_score</th>\n",
       "      <th>sname</th>\n",
       "      <th>sgender</th>\n",
       "    </tr>\n",
       "  </thead>\n",
       "  <tbody>\n",
       "    <tr>\n",
       "      <th>0</th>\n",
       "      <td>c01</td>\n",
       "      <td>1</td>\n",
       "      <td>56</td>\n",
       "      <td>21</td>\n",
       "      <td>95</td>\n",
       "      <td>AAA</td>\n",
       "      <td>f</td>\n",
       "    </tr>\n",
       "    <tr>\n",
       "      <th>1</th>\n",
       "      <td>c01</td>\n",
       "      <td>2</td>\n",
       "      <td>58</td>\n",
       "      <td>22</td>\n",
       "      <td>92</td>\n",
       "      <td>BBB</td>\n",
       "      <td>m</td>\n",
       "    </tr>\n",
       "    <tr>\n",
       "      <th>2</th>\n",
       "      <td>c01</td>\n",
       "      <td>3</td>\n",
       "      <td>60</td>\n",
       "      <td>23</td>\n",
       "      <td>89</td>\n",
       "      <td>CCC</td>\n",
       "      <td>f</td>\n",
       "    </tr>\n",
       "    <tr>\n",
       "      <th>3</th>\n",
       "      <td>c01</td>\n",
       "      <td>4</td>\n",
       "      <td>62</td>\n",
       "      <td>24</td>\n",
       "      <td>86</td>\n",
       "      <td>DDD</td>\n",
       "      <td>m</td>\n",
       "    </tr>\n",
       "    <tr>\n",
       "      <th>4</th>\n",
       "      <td>c01</td>\n",
       "      <td>5</td>\n",
       "      <td>64</td>\n",
       "      <td>25</td>\n",
       "      <td>83</td>\n",
       "      <td>EEE</td>\n",
       "      <td>m</td>\n",
       "    </tr>\n",
       "  </tbody>\n",
       "</table>\n",
       "</div>"
      ],
      "text/plain": [
       "  class  studentId  unit1_score  unit2_score  unit3_score sname sgender\n",
       "0   c01          1           56           21           95   AAA       f\n",
       "1   c01          2           58           22           92   BBB       m\n",
       "2   c01          3           60           23           89   CCC       f\n",
       "3   c01          4           62           24           86   DDD       m\n",
       "4   c01          5           64           25           83   EEE       m"
      ]
     },
     "execution_count": 36,
     "metadata": {},
     "output_type": "execute_result"
    }
   ],
   "source": [
    "df_merge=pd.merge(left=df_grade, right=df_info, left_on='studentId', right_on='studentId')\n",
    "df_merge.head()"
   ]
  },
  {
   "cell_type": "markdown",
   "id": "c7b5597e-0ef5-4873-853a-73a50810dd31",
   "metadata": {},
   "source": [
    "#### 步骤3. 调整列的顺序"
   ]
  },
  {
   "cell_type": "code",
   "execution_count": 8,
   "id": "c98e4d1e-1fd7-4b3c-b3cd-f113298aa555",
   "metadata": {},
   "outputs": [
    {
     "data": {
      "text/plain": [
       "Index(['studentId', 'sname_x', 'sphone', 'sgender_x', 'sstate', 'sname_y',\n",
       "       'sgender_y'],\n",
       "      dtype='object')"
      ]
     },
     "execution_count": 8,
     "metadata": {},
     "output_type": "execute_result"
    }
   ],
   "source": [
    "df_merge.columns"
   ]
  },
  {
   "cell_type": "markdown",
   "id": "9d778705-5dd9-472b-a834-2a6d9c62857a",
   "metadata": {},
   "source": [
    "#### 问题：怎样将 ‘姓名’，‘性别’两列放到 ‘学号’的后面？\n",
    "用Python的语法实现列表的处理"
   ]
  },
  {
   "cell_type": "code",
   "execution_count": 37,
   "id": "dac1a76a-83ac-4cae-ba64-cae7bba151d4",
   "metadata": {},
   "outputs": [
    {
     "data": {
      "text/plain": [
       "['class',\n",
       " 'studentId',\n",
       " 'unit1_score',\n",
       " 'unit2_score',\n",
       " 'unit3_score',\n",
       " 'sname',\n",
       " 'sgender']"
      ]
     },
     "execution_count": 37,
     "metadata": {},
     "output_type": "execute_result"
    }
   ],
   "source": [
    "# 将columns变成python的列表形式\n",
    "new_columns = df_merge.columns.to_list()\n",
    "new_columns"
   ]
  },
  {
   "cell_type": "code",
   "execution_count": 42,
   "id": "f5b5f064-1225-454f-a371-86098677d459",
   "metadata": {},
   "outputs": [
    {
     "data": {
      "text/plain": [
       "['class',\n",
       " 'studentId',\n",
       " 'sname',\n",
       " 'sgender',\n",
       " 'unit1_score',\n",
       " 'unit2_score',\n",
       " 'unit3_score']"
      ]
     },
     "execution_count": 42,
     "metadata": {},
     "output_type": "execute_result"
    }
   ],
   "source": [
    "# 按逆序insert，会将 sname，sgender 放到 studentId的后面\n",
    "# [::-1]代表逆向\n",
    "for name in ['sname','sgender'][::-1]:\n",
    "    new_columns.remove(name)\n",
    "    new_columns.insert(new_columns.index('studentId')+1,name)\n",
    "\n",
    "new_columns"
   ]
  },
  {
   "cell_type": "code",
   "execution_count": 43,
   "id": "6dd56e82-f0f6-4eb0-b20d-8c16b0ff5335",
   "metadata": {},
   "outputs": [
    {
     "data": {
      "text/html": [
       "<div>\n",
       "<style scoped>\n",
       "    .dataframe tbody tr th:only-of-type {\n",
       "        vertical-align: middle;\n",
       "    }\n",
       "\n",
       "    .dataframe tbody tr th {\n",
       "        vertical-align: top;\n",
       "    }\n",
       "\n",
       "    .dataframe thead th {\n",
       "        text-align: right;\n",
       "    }\n",
       "</style>\n",
       "<table border=\"1\" class=\"dataframe\">\n",
       "  <thead>\n",
       "    <tr style=\"text-align: right;\">\n",
       "      <th></th>\n",
       "      <th>class</th>\n",
       "      <th>studentId</th>\n",
       "      <th>sname</th>\n",
       "      <th>sgender</th>\n",
       "      <th>unit1_score</th>\n",
       "      <th>unit2_score</th>\n",
       "      <th>unit3_score</th>\n",
       "    </tr>\n",
       "  </thead>\n",
       "  <tbody>\n",
       "    <tr>\n",
       "      <th>0</th>\n",
       "      <td>c01</td>\n",
       "      <td>1</td>\n",
       "      <td>AAA</td>\n",
       "      <td>f</td>\n",
       "      <td>56</td>\n",
       "      <td>21</td>\n",
       "      <td>95</td>\n",
       "    </tr>\n",
       "    <tr>\n",
       "      <th>1</th>\n",
       "      <td>c01</td>\n",
       "      <td>2</td>\n",
       "      <td>BBB</td>\n",
       "      <td>m</td>\n",
       "      <td>58</td>\n",
       "      <td>22</td>\n",
       "      <td>92</td>\n",
       "    </tr>\n",
       "    <tr>\n",
       "      <th>2</th>\n",
       "      <td>c01</td>\n",
       "      <td>3</td>\n",
       "      <td>CCC</td>\n",
       "      <td>f</td>\n",
       "      <td>60</td>\n",
       "      <td>23</td>\n",
       "      <td>89</td>\n",
       "    </tr>\n",
       "    <tr>\n",
       "      <th>3</th>\n",
       "      <td>c01</td>\n",
       "      <td>4</td>\n",
       "      <td>DDD</td>\n",
       "      <td>m</td>\n",
       "      <td>62</td>\n",
       "      <td>24</td>\n",
       "      <td>86</td>\n",
       "    </tr>\n",
       "    <tr>\n",
       "      <th>4</th>\n",
       "      <td>c01</td>\n",
       "      <td>5</td>\n",
       "      <td>EEE</td>\n",
       "      <td>m</td>\n",
       "      <td>64</td>\n",
       "      <td>25</td>\n",
       "      <td>83</td>\n",
       "    </tr>\n",
       "  </tbody>\n",
       "</table>\n",
       "</div>"
      ],
      "text/plain": [
       "  class  studentId sname sgender  unit1_score  unit2_score  unit3_score\n",
       "0   c01          1   AAA       f           56           21           95\n",
       "1   c01          2   BBB       m           58           22           92\n",
       "2   c01          3   CCC       f           60           23           89\n",
       "3   c01          4   DDD       m           62           24           86\n",
       "4   c01          5   EEE       m           64           25           83"
      ]
     },
     "execution_count": 43,
     "metadata": {},
     "output_type": "execute_result"
    }
   ],
   "source": [
    "# 调整 ‘列索引’\n",
    "df_merge=df_merge.reindex(columns=new_columns)\n",
    "df_merge.head()"
   ]
  },
  {
   "cell_type": "code",
   "execution_count": 44,
   "id": "b6a5f963-a3a6-45de-875b-1c4b21cf233d",
   "metadata": {},
   "outputs": [],
   "source": [
    "#### 步骤4：输出最终Excel文件\n",
    "df_merge.to_excel('./files/students/student_merged.xlsx',index=False)"
   ]
  },
  {
   "cell_type": "code",
   "execution_count": null,
   "id": "557435f1-bc90-4f98-a1d3-fd6ea358ce56",
   "metadata": {},
   "outputs": [],
   "source": []
  }
 ],
 "metadata": {
  "kernelspec": {
   "display_name": "Python 3 (ipykernel)",
   "language": "python",
   "name": "python3"
  },
  "language_info": {
   "codemirror_mode": {
    "name": "ipython",
    "version": 3
   },
   "file_extension": ".py",
   "mimetype": "text/x-python",
   "name": "python",
   "nbconvert_exporter": "python",
   "pygments_lexer": "ipython3",
   "version": "3.10.1"
  }
 },
 "nbformat": 4,
 "nbformat_minor": 5
}
