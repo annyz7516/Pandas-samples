{
 "cells": [
  {
   "cell_type": "markdown",
   "id": "4d0dba97",
   "metadata": {},
   "source": [
    "#### Pandas批量拆分Excel与合并Excel\n",
    "实例演示：\n",
    "1. 将一个大Excel等份拆分成多个Excel\n",
    "2. 将多个小Excel合并成一个大Excel，并标记来源"
   ]
  },
  {
   "cell_type": "code",
   "execution_count": 1,
   "id": "2d712b6f",
   "metadata": {},
   "outputs": [],
   "source": [
    "work_dir='./files/excel_files'\n",
    "splits_dir=f'{work_dir}/splits'\n",
    "\n",
    "import os\n",
    "if not os.path.exists(splits_dir):\n",
    "    os.mkdir(splits_dir)"
   ]
  },
  {
   "cell_type": "markdown",
   "id": "328a387a",
   "metadata": {},
   "source": [
    "#### 读取源Excel到Pandas"
   ]
  },
  {
   "cell_type": "code",
   "execution_count": 2,
   "id": "84a23bdc",
   "metadata": {},
   "outputs": [],
   "source": [
    "import pandas as pd"
   ]
  },
  {
   "cell_type": "code",
   "execution_count": 10,
   "id": "2b717ae4",
   "metadata": {},
   "outputs": [],
   "source": [
    "df_source = pd.read_excel(f'{work_dir}/A2-Krusty_Burger_Report_Data.xlsx')"
   ]
  },
  {
   "cell_type": "code",
   "execution_count": 11,
   "id": "50f6bc25",
   "metadata": {},
   "outputs": [
    {
     "data": {
      "text/html": [
       "<div>\n",
       "<style scoped>\n",
       "    .dataframe tbody tr th:only-of-type {\n",
       "        vertical-align: middle;\n",
       "    }\n",
       "\n",
       "    .dataframe tbody tr th {\n",
       "        vertical-align: top;\n",
       "    }\n",
       "\n",
       "    .dataframe thead th {\n",
       "        text-align: right;\n",
       "    }\n",
       "</style>\n",
       "<table border=\"1\" class=\"dataframe\">\n",
       "  <thead>\n",
       "    <tr style=\"text-align: right;\">\n",
       "      <th></th>\n",
       "      <th>Staff ID</th>\n",
       "      <th>Family Name</th>\n",
       "      <th>Other Names</th>\n",
       "      <th>Timesheet ID</th>\n",
       "      <th>Date</th>\n",
       "      <th>Start Time</th>\n",
       "      <th>End Time</th>\n",
       "      <th>Store ID</th>\n",
       "      <th>Location</th>\n",
       "      <th>State</th>\n",
       "      <th>Role Code</th>\n",
       "      <th>Role Name</th>\n",
       "      <th>Rate</th>\n",
       "      <th>Total</th>\n",
       "      <th>Total Pay</th>\n",
       "    </tr>\n",
       "  </thead>\n",
       "  <tbody>\n",
       "    <tr>\n",
       "      <th>0</th>\n",
       "      <td>100001.0</td>\n",
       "      <td>SIMPSON</td>\n",
       "      <td>Bartholomew JoJo</td>\n",
       "      <td>2022-23456</td>\n",
       "      <td>2022-08-23</td>\n",
       "      <td>15:00:00</td>\n",
       "      <td>19:00:00</td>\n",
       "      <td>NSW0001</td>\n",
       "      <td>Macquarie Park</td>\n",
       "      <td>NSW</td>\n",
       "      <td>F01</td>\n",
       "      <td>Food Preparer L1</td>\n",
       "      <td>21.38</td>\n",
       "      <td>85.52</td>\n",
       "      <td>171.04</td>\n",
       "    </tr>\n",
       "    <tr>\n",
       "      <th>1</th>\n",
       "      <td>NaN</td>\n",
       "      <td>NaN</td>\n",
       "      <td>NaN</td>\n",
       "      <td>NaN</td>\n",
       "      <td>2022-08-25</td>\n",
       "      <td>15:00:00</td>\n",
       "      <td>19:00:00</td>\n",
       "      <td>NSW0001</td>\n",
       "      <td>Macquarie Park</td>\n",
       "      <td>NSW</td>\n",
       "      <td>F01</td>\n",
       "      <td>Food Preparer L1</td>\n",
       "      <td>21.38</td>\n",
       "      <td>85.52</td>\n",
       "      <td>NaN</td>\n",
       "    </tr>\n",
       "    <tr>\n",
       "      <th>2</th>\n",
       "      <td>100002.0</td>\n",
       "      <td>ALBERTSON</td>\n",
       "      <td>Kumiko</td>\n",
       "      <td>2022-23459</td>\n",
       "      <td>2022-08-27</td>\n",
       "      <td>07:00:00</td>\n",
       "      <td>12:00:00</td>\n",
       "      <td>NSW0002</td>\n",
       "      <td>Epping</td>\n",
       "      <td>NSW</td>\n",
       "      <td>S02</td>\n",
       "      <td>Front-end Service L2</td>\n",
       "      <td>22.67</td>\n",
       "      <td>113.35</td>\n",
       "      <td>269.29</td>\n",
       "    </tr>\n",
       "    <tr>\n",
       "      <th>3</th>\n",
       "      <td>NaN</td>\n",
       "      <td>NaN</td>\n",
       "      <td>NaN</td>\n",
       "      <td>NaN</td>\n",
       "      <td>NaT</td>\n",
       "      <td>12:30:00</td>\n",
       "      <td>14:30:00</td>\n",
       "      <td>NSW0002</td>\n",
       "      <td>Epping</td>\n",
       "      <td>NSW</td>\n",
       "      <td>S02</td>\n",
       "      <td>Front-end Service L2</td>\n",
       "      <td>22.67</td>\n",
       "      <td>45.34</td>\n",
       "      <td>NaN</td>\n",
       "    </tr>\n",
       "    <tr>\n",
       "      <th>4</th>\n",
       "      <td>NaN</td>\n",
       "      <td>NaN</td>\n",
       "      <td>NaN</td>\n",
       "      <td>NaN</td>\n",
       "      <td>2022-08-28</td>\n",
       "      <td>13:00:00</td>\n",
       "      <td>18:00:00</td>\n",
       "      <td>NSW0001</td>\n",
       "      <td>Macquarie Park</td>\n",
       "      <td>NSW</td>\n",
       "      <td>F02</td>\n",
       "      <td>Food Preparer L2</td>\n",
       "      <td>22.12</td>\n",
       "      <td>110.60</td>\n",
       "      <td>NaN</td>\n",
       "    </tr>\n",
       "  </tbody>\n",
       "</table>\n",
       "</div>"
      ],
      "text/plain": [
       "   Staff ID Family Name       Other Names Timesheet ID       Date Start Time  \\\n",
       "0  100001.0     SIMPSON  Bartholomew JoJo   2022-23456 2022-08-23   15:00:00   \n",
       "1       NaN         NaN               NaN          NaN 2022-08-25   15:00:00   \n",
       "2  100002.0   ALBERTSON            Kumiko   2022-23459 2022-08-27   07:00:00   \n",
       "3       NaN         NaN               NaN          NaN        NaT   12:30:00   \n",
       "4       NaN         NaN               NaN          NaN 2022-08-28   13:00:00   \n",
       "\n",
       "   End Time Store ID        Location State Role Code             Role Name  \\\n",
       "0  19:00:00  NSW0001  Macquarie Park   NSW       F01      Food Preparer L1   \n",
       "1  19:00:00  NSW0001  Macquarie Park   NSW       F01      Food Preparer L1   \n",
       "2  12:00:00  NSW0002          Epping   NSW       S02  Front-end Service L2   \n",
       "3  14:30:00  NSW0002          Epping   NSW       S02  Front-end Service L2   \n",
       "4  18:00:00  NSW0001  Macquarie Park   NSW       F02      Food Preparer L2   \n",
       "\n",
       "    Rate   Total  Total Pay  \n",
       "0  21.38   85.52     171.04  \n",
       "1  21.38   85.52        NaN  \n",
       "2  22.67  113.35     269.29  \n",
       "3  22.67   45.34        NaN  \n",
       "4  22.12  110.60        NaN  "
      ]
     },
     "execution_count": 11,
     "metadata": {},
     "output_type": "execute_result"
    }
   ],
   "source": [
    "df_source.head()"
   ]
  },
  {
   "cell_type": "code",
   "execution_count": 13,
   "id": "23d0d47f",
   "metadata": {},
   "outputs": [
    {
     "data": {
      "text/plain": [
       "(15, 15)"
      ]
     },
     "execution_count": 13,
     "metadata": {},
     "output_type": "execute_result"
    }
   ],
   "source": [
    "df_source.shape"
   ]
  },
  {
   "cell_type": "code",
   "execution_count": 16,
   "id": "3dbb2a38",
   "metadata": {},
   "outputs": [
    {
     "data": {
      "text/plain": [
       "RangeIndex(start=0, stop=15, step=1)"
      ]
     },
     "execution_count": 16,
     "metadata": {},
     "output_type": "execute_result"
    }
   ],
   "source": [
    "df_source.index"
   ]
  },
  {
   "cell_type": "code",
   "execution_count": 15,
   "id": "9d19f908",
   "metadata": {},
   "outputs": [
    {
     "data": {
      "text/plain": [
       "15"
      ]
     },
     "execution_count": 15,
     "metadata": {},
     "output_type": "execute_result"
    }
   ],
   "source": [
    "total_row_count=df_source.shape[0]\n",
    "total_row_count"
   ]
  },
  {
   "cell_type": "markdown",
   "id": "512c3880",
   "metadata": {},
   "source": [
    "#### 一、将一个大Excel等份拆成多个Excel\n",
    "1. 使用df.iloc方法，将一个大的dataframe，拆分成多个小dataframe\n",
    "2. 将使用dataframe.to_excel保存每个小excel"
   ]
  },
  {
   "cell_type": "markdown",
   "id": "ed07a0a6",
   "metadata": {},
   "source": [
    "#### 首先填充缺失行 （复习07）"
   ]
  },
  {
   "cell_type": "code",
   "execution_count": 21,
   "id": "2c660b2c",
   "metadata": {},
   "outputs": [
    {
     "data": {
      "text/html": [
       "<div>\n",
       "<style scoped>\n",
       "    .dataframe tbody tr th:only-of-type {\n",
       "        vertical-align: middle;\n",
       "    }\n",
       "\n",
       "    .dataframe tbody tr th {\n",
       "        vertical-align: top;\n",
       "    }\n",
       "\n",
       "    .dataframe thead th {\n",
       "        text-align: right;\n",
       "    }\n",
       "</style>\n",
       "<table border=\"1\" class=\"dataframe\">\n",
       "  <thead>\n",
       "    <tr style=\"text-align: right;\">\n",
       "      <th></th>\n",
       "      <th>Staff ID</th>\n",
       "      <th>Family Name</th>\n",
       "      <th>Other Names</th>\n",
       "      <th>Timesheet ID</th>\n",
       "      <th>Date</th>\n",
       "      <th>Start Time</th>\n",
       "      <th>End Time</th>\n",
       "      <th>Store ID</th>\n",
       "      <th>Location</th>\n",
       "      <th>State</th>\n",
       "      <th>Role Code</th>\n",
       "      <th>Role Name</th>\n",
       "      <th>Rate</th>\n",
       "      <th>Total</th>\n",
       "      <th>Total Pay</th>\n",
       "    </tr>\n",
       "  </thead>\n",
       "  <tbody>\n",
       "    <tr>\n",
       "      <th>0</th>\n",
       "      <td>100001.0</td>\n",
       "      <td>SIMPSON</td>\n",
       "      <td>Bartholomew JoJo</td>\n",
       "      <td>2022-23456</td>\n",
       "      <td>2022-08-23</td>\n",
       "      <td>15:00:00</td>\n",
       "      <td>19:00:00</td>\n",
       "      <td>NSW0001</td>\n",
       "      <td>Macquarie Park</td>\n",
       "      <td>NSW</td>\n",
       "      <td>F01</td>\n",
       "      <td>Food Preparer L1</td>\n",
       "      <td>21.38</td>\n",
       "      <td>85.52</td>\n",
       "      <td>171.04</td>\n",
       "    </tr>\n",
       "    <tr>\n",
       "      <th>1</th>\n",
       "      <td>100001.0</td>\n",
       "      <td>SIMPSON</td>\n",
       "      <td>Bartholomew JoJo</td>\n",
       "      <td>2022-23456</td>\n",
       "      <td>2022-08-25</td>\n",
       "      <td>15:00:00</td>\n",
       "      <td>19:00:00</td>\n",
       "      <td>NSW0001</td>\n",
       "      <td>Macquarie Park</td>\n",
       "      <td>NSW</td>\n",
       "      <td>F01</td>\n",
       "      <td>Food Preparer L1</td>\n",
       "      <td>21.38</td>\n",
       "      <td>85.52</td>\n",
       "      <td>NaN</td>\n",
       "    </tr>\n",
       "    <tr>\n",
       "      <th>2</th>\n",
       "      <td>100002.0</td>\n",
       "      <td>ALBERTSON</td>\n",
       "      <td>Kumiko</td>\n",
       "      <td>2022-23459</td>\n",
       "      <td>2022-08-27</td>\n",
       "      <td>07:00:00</td>\n",
       "      <td>12:00:00</td>\n",
       "      <td>NSW0002</td>\n",
       "      <td>Epping</td>\n",
       "      <td>NSW</td>\n",
       "      <td>S02</td>\n",
       "      <td>Front-end Service L2</td>\n",
       "      <td>22.67</td>\n",
       "      <td>113.35</td>\n",
       "      <td>269.29</td>\n",
       "    </tr>\n",
       "    <tr>\n",
       "      <th>3</th>\n",
       "      <td>100002.0</td>\n",
       "      <td>ALBERTSON</td>\n",
       "      <td>Kumiko</td>\n",
       "      <td>2022-23459</td>\n",
       "      <td>NaT</td>\n",
       "      <td>12:30:00</td>\n",
       "      <td>14:30:00</td>\n",
       "      <td>NSW0002</td>\n",
       "      <td>Epping</td>\n",
       "      <td>NSW</td>\n",
       "      <td>S02</td>\n",
       "      <td>Front-end Service L2</td>\n",
       "      <td>22.67</td>\n",
       "      <td>45.34</td>\n",
       "      <td>NaN</td>\n",
       "    </tr>\n",
       "    <tr>\n",
       "      <th>4</th>\n",
       "      <td>100002.0</td>\n",
       "      <td>ALBERTSON</td>\n",
       "      <td>Kumiko</td>\n",
       "      <td>2022-23459</td>\n",
       "      <td>2022-08-28</td>\n",
       "      <td>13:00:00</td>\n",
       "      <td>18:00:00</td>\n",
       "      <td>NSW0001</td>\n",
       "      <td>Macquarie Park</td>\n",
       "      <td>NSW</td>\n",
       "      <td>F02</td>\n",
       "      <td>Food Preparer L2</td>\n",
       "      <td>22.12</td>\n",
       "      <td>110.60</td>\n",
       "      <td>NaN</td>\n",
       "    </tr>\n",
       "  </tbody>\n",
       "</table>\n",
       "</div>"
      ],
      "text/plain": [
       "   Staff ID Family Name       Other Names Timesheet ID       Date Start Time  \\\n",
       "0  100001.0     SIMPSON  Bartholomew JoJo   2022-23456 2022-08-23   15:00:00   \n",
       "1  100001.0     SIMPSON  Bartholomew JoJo   2022-23456 2022-08-25   15:00:00   \n",
       "2  100002.0   ALBERTSON            Kumiko   2022-23459 2022-08-27   07:00:00   \n",
       "3  100002.0   ALBERTSON            Kumiko   2022-23459        NaT   12:30:00   \n",
       "4  100002.0   ALBERTSON            Kumiko   2022-23459 2022-08-28   13:00:00   \n",
       "\n",
       "   End Time Store ID        Location State Role Code             Role Name  \\\n",
       "0  19:00:00  NSW0001  Macquarie Park   NSW       F01      Food Preparer L1   \n",
       "1  19:00:00  NSW0001  Macquarie Park   NSW       F01      Food Preparer L1   \n",
       "2  12:00:00  NSW0002          Epping   NSW       S02  Front-end Service L2   \n",
       "3  14:30:00  NSW0002          Epping   NSW       S02  Front-end Service L2   \n",
       "4  18:00:00  NSW0001  Macquarie Park   NSW       F02      Food Preparer L2   \n",
       "\n",
       "    Rate   Total  Total Pay  \n",
       "0  21.38   85.52     171.04  \n",
       "1  21.38   85.52        NaN  \n",
       "2  22.67  113.35     269.29  \n",
       "3  22.67   45.34        NaN  \n",
       "4  22.12  110.60        NaN  "
      ]
     },
     "execution_count": 21,
     "metadata": {},
     "output_type": "execute_result"
    }
   ],
   "source": [
    "df_source.loc[:,['Staff ID','Family Name','Other Names','Timesheet ID']]=df_source[['Staff ID','Family Name','Other Names','Timesheet ID']].fillna(method='ffill')\n",
    "df_source.head()"
   ]
  },
  {
   "cell_type": "markdown",
   "id": "229e7817",
   "metadata": {},
   "source": [
    "#### 1、计算拆分后的每个excel的行数"
   ]
  },
  {
   "cell_type": "code",
   "execution_count": 52,
   "id": "13680cee",
   "metadata": {},
   "outputs": [],
   "source": [
    "# 这个大的excel，会拆分给几个人\n",
    "user_names=['ted','nathan','benjamin','anny','mike']"
   ]
  },
  {
   "cell_type": "code",
   "execution_count": 53,
   "id": "f953504f",
   "metadata": {},
   "outputs": [
    {
     "data": {
      "text/plain": [
       "3"
      ]
     },
     "execution_count": 53,
     "metadata": {},
     "output_type": "execute_result"
    }
   ],
   "source": [
    "# 每个人的任务数目\n",
    "split_size=total_row_count//len(user_names)\n",
    "if total_row_count%len(user_names)!=0:\n",
    "    split_size+=1\n",
    "    \n",
    "split_size"
   ]
  },
  {
   "cell_type": "markdown",
   "id": "4de4affb",
   "metadata": {},
   "source": [
    "#### 2、拆成多个dataframe"
   ]
  },
  {
   "cell_type": "code",
   "execution_count": 54,
   "id": "db555351",
   "metadata": {},
   "outputs": [],
   "source": [
    "df_subs=[]\n",
    "for idx,user_name in enumerate(user_names):\n",
    "    # iloc的开始索引\n",
    "    begin=idx*split_size\n",
    "    # iloc的结束索引\n",
    "    end=begin+split_size\n",
    "    # 实现df按照iloc拆分\n",
    "    df_sub=df_source.iloc[begin:end]\n",
    "    # 将每个df_sub存入列表\n",
    "    df_subs.append((idx,user_name,df_sub))"
   ]
  },
  {
   "cell_type": "markdown",
   "id": "8e65f5f4",
   "metadata": {},
   "source": [
    "#### 3、将每个dataframe存入excel"
   ]
  },
  {
   "cell_type": "code",
   "execution_count": 55,
   "id": "3b58780c",
   "metadata": {},
   "outputs": [],
   "source": [
    "for idx,user_name,df_sub in df_subs:\n",
    "    file_name=f'{splits_dir}/A2-Krusty_Burger_Report_{idx}_{user_name}.xlsx'\n",
    "    # .to_excel生成excel文件\n",
    "    df_sub.to_excel(file_name,index=False)"
   ]
  },
  {
   "cell_type": "markdown",
   "id": "dcc47cd4",
   "metadata": {},
   "source": [
    "#### 二、合并多个小Excel到一个大Excel\n",
    "1. 遍历文件夹，得到要合并的Excel文件列表\n",
    "2. 分别读取到dataframe，给每个df添加一列用于标记来源\n",
    "3. 使用pd.concat进行df批量合并\n",
    "4. 将合并后的dataframe输出到excel"
   ]
  },
  {
   "cell_type": "markdown",
   "id": "20492f93",
   "metadata": {},
   "source": [
    "##### 1. 遍历文件夹，得到要合并的Excel名称列表"
   ]
  },
  {
   "cell_type": "code",
   "execution_count": 56,
   "id": "fa699db5",
   "metadata": {},
   "outputs": [
    {
     "data": {
      "text/plain": [
       "['A2-Krusty_Burger_Report_0_ted.xlsx',\n",
       " 'A2-Krusty_Burger_Report_1_nathan.xlsx',\n",
       " 'A2-Krusty_Burger_Report_2_benjamin.xlsx',\n",
       " 'A2-Krusty_Burger_Report_3_anny.xlsx',\n",
       " 'A2-Krusty_Burger_Report_4_mike.xlsx']"
      ]
     },
     "execution_count": 56,
     "metadata": {},
     "output_type": "execute_result"
    }
   ],
   "source": [
    "import os\n",
    "excel_names = []\n",
    "for excel_name in os.listdir(splits_dir):\n",
    "    excel_names.append(excel_name)\n",
    "    \n",
    "excel_names"
   ]
  },
  {
   "cell_type": "markdown",
   "id": "be43da42",
   "metadata": {},
   "source": [
    "##### 2. 分别读取到dataframe"
   ]
  },
  {
   "cell_type": "code",
   "execution_count": 57,
   "id": "17f6d7de",
   "metadata": {},
   "outputs": [
    {
     "name": "stdout",
     "output_type": "stream",
     "text": [
      "A2-Krusty_Burger_Report_0_ted.xlsx ted\n",
      "A2-Krusty_Burger_Report_1_nathan.xlsx nathan\n",
      "A2-Krusty_Burger_Report_2_benjamin.xlsx benjamin\n",
      "A2-Krusty_Burger_Report_3_anny.xlsx anny\n",
      "A2-Krusty_Burger_Report_4_mike.xlsx mike\n"
     ]
    }
   ],
   "source": [
    "df_list=[]\n",
    "\n",
    "for excel_name in excel_names:\n",
    "    # 读取每个excel到df：\n",
    "    excel_path=f'{splits_dir}/{excel_name}'\n",
    "    df_split=pd.read_excel(excel_path)\n",
    "    # 得到username\n",
    "    username=excel_name.replace('A2-Krusty_Burger_Report_','').replace('.xlsx','')[2:]\n",
    "    print(excel_name,username)\n",
    "    # 给每个df添加一列，即用户名字\n",
    "    df_split['username']=username\n",
    "    \n",
    "    df_list.append(df_split)"
   ]
  },
  {
   "cell_type": "markdown",
   "id": "806f0386",
   "metadata": {},
   "source": [
    "##### 3. 使用pd.concat进行合并"
   ]
  },
  {
   "cell_type": "code",
   "execution_count": 58,
   "id": "90a9c1ff",
   "metadata": {},
   "outputs": [],
   "source": [
    "df_merged=pd.concat(df_list)"
   ]
  },
  {
   "cell_type": "code",
   "execution_count": 59,
   "id": "d616f181",
   "metadata": {},
   "outputs": [
    {
     "data": {
      "text/plain": [
       "(15, 16)"
      ]
     },
     "execution_count": 59,
     "metadata": {},
     "output_type": "execute_result"
    }
   ],
   "source": [
    "df_merged.shape"
   ]
  },
  {
   "cell_type": "code",
   "execution_count": 60,
   "id": "c4e4da49",
   "metadata": {},
   "outputs": [
    {
     "data": {
      "text/html": [
       "<div>\n",
       "<style scoped>\n",
       "    .dataframe tbody tr th:only-of-type {\n",
       "        vertical-align: middle;\n",
       "    }\n",
       "\n",
       "    .dataframe tbody tr th {\n",
       "        vertical-align: top;\n",
       "    }\n",
       "\n",
       "    .dataframe thead th {\n",
       "        text-align: right;\n",
       "    }\n",
       "</style>\n",
       "<table border=\"1\" class=\"dataframe\">\n",
       "  <thead>\n",
       "    <tr style=\"text-align: right;\">\n",
       "      <th></th>\n",
       "      <th>Staff ID</th>\n",
       "      <th>Family Name</th>\n",
       "      <th>Other Names</th>\n",
       "      <th>Timesheet ID</th>\n",
       "      <th>Date</th>\n",
       "      <th>Start Time</th>\n",
       "      <th>End Time</th>\n",
       "      <th>Store ID</th>\n",
       "      <th>Location</th>\n",
       "      <th>State</th>\n",
       "      <th>Role Code</th>\n",
       "      <th>Role Name</th>\n",
       "      <th>Rate</th>\n",
       "      <th>Total</th>\n",
       "      <th>Total Pay</th>\n",
       "      <th>username</th>\n",
       "    </tr>\n",
       "  </thead>\n",
       "  <tbody>\n",
       "    <tr>\n",
       "      <th>0</th>\n",
       "      <td>100001</td>\n",
       "      <td>SIMPSON</td>\n",
       "      <td>Bartholomew JoJo</td>\n",
       "      <td>2022-23456</td>\n",
       "      <td>2022-08-23</td>\n",
       "      <td>15:00:00</td>\n",
       "      <td>19:00:00</td>\n",
       "      <td>NSW0001</td>\n",
       "      <td>Macquarie Park</td>\n",
       "      <td>NSW</td>\n",
       "      <td>F01</td>\n",
       "      <td>Food Preparer L1</td>\n",
       "      <td>21.38</td>\n",
       "      <td>85.52</td>\n",
       "      <td>171.04</td>\n",
       "      <td>ted</td>\n",
       "    </tr>\n",
       "    <tr>\n",
       "      <th>1</th>\n",
       "      <td>100001</td>\n",
       "      <td>SIMPSON</td>\n",
       "      <td>Bartholomew JoJo</td>\n",
       "      <td>2022-23456</td>\n",
       "      <td>2022-08-25</td>\n",
       "      <td>15:00:00</td>\n",
       "      <td>19:00:00</td>\n",
       "      <td>NSW0001</td>\n",
       "      <td>Macquarie Park</td>\n",
       "      <td>NSW</td>\n",
       "      <td>F01</td>\n",
       "      <td>Food Preparer L1</td>\n",
       "      <td>21.38</td>\n",
       "      <td>85.52</td>\n",
       "      <td>NaN</td>\n",
       "      <td>ted</td>\n",
       "    </tr>\n",
       "    <tr>\n",
       "      <th>2</th>\n",
       "      <td>100002</td>\n",
       "      <td>ALBERTSON</td>\n",
       "      <td>Kumiko</td>\n",
       "      <td>2022-23459</td>\n",
       "      <td>2022-08-27</td>\n",
       "      <td>07:00:00</td>\n",
       "      <td>12:00:00</td>\n",
       "      <td>NSW0002</td>\n",
       "      <td>Epping</td>\n",
       "      <td>NSW</td>\n",
       "      <td>S02</td>\n",
       "      <td>Front-end Service L2</td>\n",
       "      <td>22.67</td>\n",
       "      <td>113.35</td>\n",
       "      <td>269.29</td>\n",
       "      <td>ted</td>\n",
       "    </tr>\n",
       "    <tr>\n",
       "      <th>0</th>\n",
       "      <td>100002</td>\n",
       "      <td>ALBERTSON</td>\n",
       "      <td>Kumiko</td>\n",
       "      <td>2022-23459</td>\n",
       "      <td>NaT</td>\n",
       "      <td>12:30:00</td>\n",
       "      <td>14:30:00</td>\n",
       "      <td>NSW0002</td>\n",
       "      <td>Epping</td>\n",
       "      <td>NSW</td>\n",
       "      <td>S02</td>\n",
       "      <td>Front-end Service L2</td>\n",
       "      <td>22.67</td>\n",
       "      <td>45.34</td>\n",
       "      <td>NaN</td>\n",
       "      <td>nathan</td>\n",
       "    </tr>\n",
       "    <tr>\n",
       "      <th>1</th>\n",
       "      <td>100002</td>\n",
       "      <td>ALBERTSON</td>\n",
       "      <td>Kumiko</td>\n",
       "      <td>2022-23459</td>\n",
       "      <td>2022-08-28</td>\n",
       "      <td>13:00:00</td>\n",
       "      <td>18:00:00</td>\n",
       "      <td>NSW0001</td>\n",
       "      <td>Macquarie Park</td>\n",
       "      <td>NSW</td>\n",
       "      <td>F02</td>\n",
       "      <td>Food Preparer L2</td>\n",
       "      <td>22.12</td>\n",
       "      <td>110.60</td>\n",
       "      <td>NaN</td>\n",
       "      <td>nathan</td>\n",
       "    </tr>\n",
       "  </tbody>\n",
       "</table>\n",
       "</div>"
      ],
      "text/plain": [
       "   Staff ID Family Name       Other Names Timesheet ID       Date Start Time  \\\n",
       "0    100001     SIMPSON  Bartholomew JoJo   2022-23456 2022-08-23   15:00:00   \n",
       "1    100001     SIMPSON  Bartholomew JoJo   2022-23456 2022-08-25   15:00:00   \n",
       "2    100002   ALBERTSON            Kumiko   2022-23459 2022-08-27   07:00:00   \n",
       "0    100002   ALBERTSON            Kumiko   2022-23459        NaT   12:30:00   \n",
       "1    100002   ALBERTSON            Kumiko   2022-23459 2022-08-28   13:00:00   \n",
       "\n",
       "   End Time Store ID        Location State Role Code             Role Name  \\\n",
       "0  19:00:00  NSW0001  Macquarie Park   NSW       F01      Food Preparer L1   \n",
       "1  19:00:00  NSW0001  Macquarie Park   NSW       F01      Food Preparer L1   \n",
       "2  12:00:00  NSW0002          Epping   NSW       S02  Front-end Service L2   \n",
       "0  14:30:00  NSW0002          Epping   NSW       S02  Front-end Service L2   \n",
       "1  18:00:00  NSW0001  Macquarie Park   NSW       F02      Food Preparer L2   \n",
       "\n",
       "    Rate   Total  Total Pay username  \n",
       "0  21.38   85.52     171.04      ted  \n",
       "1  21.38   85.52        NaN      ted  \n",
       "2  22.67  113.35     269.29      ted  \n",
       "0  22.67   45.34        NaN   nathan  \n",
       "1  22.12  110.60        NaN   nathan  "
      ]
     },
     "execution_count": 60,
     "metadata": {},
     "output_type": "execute_result"
    }
   ],
   "source": [
    "df_merged.head()"
   ]
  },
  {
   "cell_type": "code",
   "execution_count": 61,
   "id": "82c80aaf",
   "metadata": {},
   "outputs": [
    {
     "data": {
      "text/plain": [
       "ted         3\n",
       "nathan      3\n",
       "benjamin    3\n",
       "anny        3\n",
       "mike        3\n",
       "Name: username, dtype: int64"
      ]
     },
     "execution_count": 61,
     "metadata": {},
     "output_type": "execute_result"
    }
   ],
   "source": [
    "df_merged['username'].value_counts()"
   ]
  },
  {
   "cell_type": "markdown",
   "id": "cce733d8",
   "metadata": {},
   "source": [
    "##### 4.将合并后的dataframe输出到excel"
   ]
  },
  {
   "cell_type": "code",
   "execution_count": 63,
   "id": "0ad0ea74",
   "metadata": {},
   "outputs": [],
   "source": [
    "df_merged.to_excel(f'{work_dir}/A2-Krusty_Burger_Report_merged.xlsx',index=False)"
   ]
  },
  {
   "cell_type": "code",
   "execution_count": null,
   "id": "b19aa020",
   "metadata": {},
   "outputs": [],
   "source": []
  }
 ],
 "metadata": {
  "kernelspec": {
   "display_name": "Python 3 (ipykernel)",
   "language": "python",
   "name": "python3"
  },
  "language_info": {
   "codemirror_mode": {
    "name": "ipython",
    "version": 3
   },
   "file_extension": ".py",
   "mimetype": "text/x-python",
   "name": "python",
   "nbconvert_exporter": "python",
   "pygments_lexer": "ipython3",
   "version": "3.9.7"
  }
 },
 "nbformat": 4,
 "nbformat_minor": 5
}
