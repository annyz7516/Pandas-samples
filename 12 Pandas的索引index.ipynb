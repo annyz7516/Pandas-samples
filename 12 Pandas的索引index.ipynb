{
 "cells": [
  {
   "cell_type": "markdown",
   "id": "5fba2117",
   "metadata": {},
   "source": [
    "#### Pandas的索引index的用途\n",
    "把数据存储于普通的column列也能用于数据查询，那使用index有什么好处？\n",
    "\n",
    "index的用途总结：\n",
    "1. 更方便的数据查询\n",
    "2. 使用index可以获得性能提升\n",
    "3. 自动的数据对齐功能\n",
    "4. 更多更强大的数据结构支持"
   ]
  },
  {
   "cell_type": "code",
   "execution_count": 2,
   "id": "583da52b",
   "metadata": {},
   "outputs": [],
   "source": [
    "import pandas as pd"
   ]
  },
  {
   "cell_type": "code",
   "execution_count": 3,
   "id": "467af79d",
   "metadata": {},
   "outputs": [],
   "source": [
    "df=pd.read_csv(\"C:/Users/pxpxz_ct9p1p3/Downloads/Fortune_1000_Companies_by_Revenue.csv\")"
   ]
  },
  {
   "cell_type": "code",
   "execution_count": 4,
   "id": "df1c1938",
   "metadata": {},
   "outputs": [
    {
     "data": {
      "text/html": [
       "<div>\n",
       "<style scoped>\n",
       "    .dataframe tbody tr th:only-of-type {\n",
       "        vertical-align: middle;\n",
       "    }\n",
       "\n",
       "    .dataframe tbody tr th {\n",
       "        vertical-align: top;\n",
       "    }\n",
       "\n",
       "    .dataframe thead th {\n",
       "        text-align: right;\n",
       "    }\n",
       "</style>\n",
       "<table border=\"1\" class=\"dataframe\">\n",
       "  <thead>\n",
       "    <tr style=\"text-align: right;\">\n",
       "      <th></th>\n",
       "      <th>rank</th>\n",
       "      <th>name</th>\n",
       "      <th>revenues</th>\n",
       "      <th>revenue_percent_change</th>\n",
       "      <th>profits</th>\n",
       "      <th>profits_percent_change</th>\n",
       "      <th>assets</th>\n",
       "      <th>market_value</th>\n",
       "      <th>change_in_rank</th>\n",
       "      <th>employees</th>\n",
       "    </tr>\n",
       "  </thead>\n",
       "  <tbody>\n",
       "    <tr>\n",
       "      <th>0</th>\n",
       "      <td>1</td>\n",
       "      <td>Walmart</td>\n",
       "      <td>$572,754</td>\n",
       "      <td>2.40%</td>\n",
       "      <td>$13,673</td>\n",
       "      <td>1.20%</td>\n",
       "      <td>$244,860</td>\n",
       "      <td>$409,795</td>\n",
       "      <td>-</td>\n",
       "      <td>2,300,000</td>\n",
       "    </tr>\n",
       "    <tr>\n",
       "      <th>1</th>\n",
       "      <td>2</td>\n",
       "      <td>Amazon</td>\n",
       "      <td>$469,822</td>\n",
       "      <td>21.70%</td>\n",
       "      <td>$33,364</td>\n",
       "      <td>56.40%</td>\n",
       "      <td>$420,549</td>\n",
       "      <td>$1,658,807.30</td>\n",
       "      <td>-</td>\n",
       "      <td>1,608,000</td>\n",
       "    </tr>\n",
       "    <tr>\n",
       "      <th>2</th>\n",
       "      <td>3</td>\n",
       "      <td>Apple</td>\n",
       "      <td>$365,817</td>\n",
       "      <td>33.30%</td>\n",
       "      <td>$94,680</td>\n",
       "      <td>64.90%</td>\n",
       "      <td>$351,002</td>\n",
       "      <td>$2,849,537.60</td>\n",
       "      <td>-</td>\n",
       "      <td>154,000</td>\n",
       "    </tr>\n",
       "    <tr>\n",
       "      <th>3</th>\n",
       "      <td>4</td>\n",
       "      <td>CVS Health</td>\n",
       "      <td>$292,111</td>\n",
       "      <td>8.70%</td>\n",
       "      <td>$7,910</td>\n",
       "      <td>10.20%</td>\n",
       "      <td>$232,999</td>\n",
       "      <td>$132,839.20</td>\n",
       "      <td>-</td>\n",
       "      <td>258,000</td>\n",
       "    </tr>\n",
       "    <tr>\n",
       "      <th>4</th>\n",
       "      <td>5</td>\n",
       "      <td>UnitedHealth Group</td>\n",
       "      <td>$287,597</td>\n",
       "      <td>11.80%</td>\n",
       "      <td>$17,285</td>\n",
       "      <td>12.20%</td>\n",
       "      <td>$212,206</td>\n",
       "      <td>$479,830.30</td>\n",
       "      <td>-</td>\n",
       "      <td>350,000</td>\n",
       "    </tr>\n",
       "  </tbody>\n",
       "</table>\n",
       "</div>"
      ],
      "text/plain": [
       "  rank                name   revenues revenue_percent_change   profits  \\\n",
       "0    1             Walmart  $572,754                   2.40%  $13,673    \n",
       "1    2              Amazon  $469,822                  21.70%  $33,364    \n",
       "2    3               Apple  $365,817                  33.30%  $94,680    \n",
       "3    4          CVS Health  $292,111                   8.70%   $7,910    \n",
       "4    5  UnitedHealth Group  $287,597                  11.80%  $17,285    \n",
       "\n",
       "  profits_percent_change     assets    market_value change_in_rank  employees  \n",
       "0                  1.20%  $244,860        $409,795               -  2,300,000  \n",
       "1                 56.40%  $420,549   $1,658,807.30               -  1,608,000  \n",
       "2                 64.90%  $351,002   $2,849,537.60               -    154,000  \n",
       "3                 10.20%  $232,999     $132,839.20               -    258,000  \n",
       "4                 12.20%  $212,206     $479,830.30               -    350,000  "
      ]
     },
     "execution_count": 4,
     "metadata": {},
     "output_type": "execute_result"
    }
   ],
   "source": [
    "df.head()"
   ]
  },
  {
   "cell_type": "code",
   "execution_count": 7,
   "id": "0d1bc79c",
   "metadata": {},
   "outputs": [
    {
     "data": {
      "text/plain": [
       "rank                      1000\n",
       "name                      1000\n",
       "revenues                  1000\n",
       "revenue_percent_change    1000\n",
       "profits                   1000\n",
       "profits_percent_change    1000\n",
       "assets                    1000\n",
       "market_value              1000\n",
       "change_in_rank            1000\n",
       "employees                 1000\n",
       "dtype: int64"
      ]
     },
     "execution_count": 7,
     "metadata": {},
     "output_type": "execute_result"
    }
   ],
   "source": [
    "df.count()"
   ]
  },
  {
   "cell_type": "markdown",
   "id": "203f7704",
   "metadata": {},
   "source": [
    "#### 1、使用index查询数据"
   ]
  },
  {
   "cell_type": "code",
   "execution_count": 8,
   "id": "1bd97428",
   "metadata": {},
   "outputs": [],
   "source": [
    "# drop==False，让索引列还保持在column\n",
    "df.set_index('rank', inplace=True, drop=False)"
   ]
  },
  {
   "cell_type": "code",
   "execution_count": 9,
   "id": "5d6a6ae6",
   "metadata": {},
   "outputs": [
    {
     "data": {
      "text/html": [
       "<div>\n",
       "<style scoped>\n",
       "    .dataframe tbody tr th:only-of-type {\n",
       "        vertical-align: middle;\n",
       "    }\n",
       "\n",
       "    .dataframe tbody tr th {\n",
       "        vertical-align: top;\n",
       "    }\n",
       "\n",
       "    .dataframe thead th {\n",
       "        text-align: right;\n",
       "    }\n",
       "</style>\n",
       "<table border=\"1\" class=\"dataframe\">\n",
       "  <thead>\n",
       "    <tr style=\"text-align: right;\">\n",
       "      <th></th>\n",
       "      <th>rank</th>\n",
       "      <th>name</th>\n",
       "      <th>revenues</th>\n",
       "      <th>revenue_percent_change</th>\n",
       "      <th>profits</th>\n",
       "      <th>profits_percent_change</th>\n",
       "      <th>assets</th>\n",
       "      <th>market_value</th>\n",
       "      <th>change_in_rank</th>\n",
       "      <th>employees</th>\n",
       "    </tr>\n",
       "    <tr>\n",
       "      <th>rank</th>\n",
       "      <th></th>\n",
       "      <th></th>\n",
       "      <th></th>\n",
       "      <th></th>\n",
       "      <th></th>\n",
       "      <th></th>\n",
       "      <th></th>\n",
       "      <th></th>\n",
       "      <th></th>\n",
       "      <th></th>\n",
       "    </tr>\n",
       "  </thead>\n",
       "  <tbody>\n",
       "    <tr>\n",
       "      <th>1</th>\n",
       "      <td>1</td>\n",
       "      <td>Walmart</td>\n",
       "      <td>$572,754</td>\n",
       "      <td>2.40%</td>\n",
       "      <td>$13,673</td>\n",
       "      <td>1.20%</td>\n",
       "      <td>$244,860</td>\n",
       "      <td>$409,795</td>\n",
       "      <td>-</td>\n",
       "      <td>2,300,000</td>\n",
       "    </tr>\n",
       "    <tr>\n",
       "      <th>2</th>\n",
       "      <td>2</td>\n",
       "      <td>Amazon</td>\n",
       "      <td>$469,822</td>\n",
       "      <td>21.70%</td>\n",
       "      <td>$33,364</td>\n",
       "      <td>56.40%</td>\n",
       "      <td>$420,549</td>\n",
       "      <td>$1,658,807.30</td>\n",
       "      <td>-</td>\n",
       "      <td>1,608,000</td>\n",
       "    </tr>\n",
       "    <tr>\n",
       "      <th>3</th>\n",
       "      <td>3</td>\n",
       "      <td>Apple</td>\n",
       "      <td>$365,817</td>\n",
       "      <td>33.30%</td>\n",
       "      <td>$94,680</td>\n",
       "      <td>64.90%</td>\n",
       "      <td>$351,002</td>\n",
       "      <td>$2,849,537.60</td>\n",
       "      <td>-</td>\n",
       "      <td>154,000</td>\n",
       "    </tr>\n",
       "    <tr>\n",
       "      <th>4</th>\n",
       "      <td>4</td>\n",
       "      <td>CVS Health</td>\n",
       "      <td>$292,111</td>\n",
       "      <td>8.70%</td>\n",
       "      <td>$7,910</td>\n",
       "      <td>10.20%</td>\n",
       "      <td>$232,999</td>\n",
       "      <td>$132,839.20</td>\n",
       "      <td>-</td>\n",
       "      <td>258,000</td>\n",
       "    </tr>\n",
       "    <tr>\n",
       "      <th>5</th>\n",
       "      <td>5</td>\n",
       "      <td>UnitedHealth Group</td>\n",
       "      <td>$287,597</td>\n",
       "      <td>11.80%</td>\n",
       "      <td>$17,285</td>\n",
       "      <td>12.20%</td>\n",
       "      <td>$212,206</td>\n",
       "      <td>$479,830.30</td>\n",
       "      <td>-</td>\n",
       "      <td>350,000</td>\n",
       "    </tr>\n",
       "  </tbody>\n",
       "</table>\n",
       "</div>"
      ],
      "text/plain": [
       "     rank                name   revenues revenue_percent_change   profits  \\\n",
       "rank                                                                        \n",
       "1       1             Walmart  $572,754                   2.40%  $13,673    \n",
       "2       2              Amazon  $469,822                  21.70%  $33,364    \n",
       "3       3               Apple  $365,817                  33.30%  $94,680    \n",
       "4       4          CVS Health  $292,111                   8.70%   $7,910    \n",
       "5       5  UnitedHealth Group  $287,597                  11.80%  $17,285    \n",
       "\n",
       "     profits_percent_change     assets    market_value change_in_rank  \\\n",
       "rank                                                                    \n",
       "1                     1.20%  $244,860        $409,795               -   \n",
       "2                    56.40%  $420,549   $1,658,807.30               -   \n",
       "3                    64.90%  $351,002   $2,849,537.60               -   \n",
       "4                    10.20%  $232,999     $132,839.20               -   \n",
       "5                    12.20%  $212,206     $479,830.30               -   \n",
       "\n",
       "      employees  \n",
       "rank             \n",
       "1     2,300,000  \n",
       "2     1,608,000  \n",
       "3       154,000  \n",
       "4       258,000  \n",
       "5       350,000  "
      ]
     },
     "execution_count": 9,
     "metadata": {},
     "output_type": "execute_result"
    }
   ],
   "source": [
    "df.head()"
   ]
  },
  {
   "cell_type": "code",
   "execution_count": 6,
   "id": "740c34ec",
   "metadata": {},
   "outputs": [
    {
     "data": {
      "text/plain": [
       "Index(['1', '2', '3', '4', '5', '6', '7', '8', '9', '10',\n",
       "       ...\n",
       "       '991', '992', '993', '994', '995', '996', '997', '998', '999', '1,000'],\n",
       "      dtype='object', name='rank', length=1000)"
      ]
     },
     "execution_count": 6,
     "metadata": {},
     "output_type": "execute_result"
    }
   ],
   "source": [
    "df.index"
   ]
  },
  {
   "cell_type": "code",
   "execution_count": 11,
   "id": "93fe1229",
   "metadata": {},
   "outputs": [
    {
     "data": {
      "text/plain": [
       "rank                          500\n",
       "name                       Ameren\n",
       "revenues                  $6,394 \n",
       "revenue_percent_change     10.40%\n",
       "profits                     $990 \n",
       "Name: 500, dtype: object"
      ]
     },
     "execution_count": 11,
     "metadata": {},
     "output_type": "execute_result"
    }
   ],
   "source": [
    "# 使用index的查询方法\n",
    "df.loc['500'].head(5)\n",
    "# 否则，使用column的condition查询方法,也是一样，但显然用index查询更简便\n",
    "df.loc[df['userId']==500].head()"
   ]
  },
  {
   "cell_type": "markdown",
   "id": "a660aa45",
   "metadata": {},
   "source": [
    "#### 2、使用index会提升查询性能\n",
    "+ 如果index是唯一的，Pandas会使用哈希表优化，查询性能为O(1);\n",
    "+ 如果index不是唯一的，但是有序，Pandas会使用二分查找算法，查询性能为O(logN);\n",
    "+ 如果indax是完全随机的，那么每次查询都要扫描全表，查询性能为O(N);"
   ]
  },
  {
   "cell_type": "markdown",
   "id": "fe82b858",
   "metadata": {},
   "source": [
    "实验1：完全随机的顺序查询\n",
    "\n",
    "实验2：将index排序后的查询\n",
    "\n",
    "通过实验1和实验2对比，知道排序后查询效果大大提升"
   ]
  },
  {
   "cell_type": "markdown",
   "id": "62941ce5",
   "metadata": {},
   "source": [
    "#### 3、使用index能自动对齐数据\n",
    "包括series和dataframe"
   ]
  },
  {
   "cell_type": "code",
   "execution_count": 12,
   "id": "1b69dd39",
   "metadata": {},
   "outputs": [],
   "source": [
    "# 创建series\n",
    "s1=pd.Series([1,2,3],index=list('abc'))"
   ]
  },
  {
   "cell_type": "code",
   "execution_count": 13,
   "id": "0255d957",
   "metadata": {},
   "outputs": [
    {
     "data": {
      "text/plain": [
       "a    1\n",
       "b    2\n",
       "c    3\n",
       "dtype: int64"
      ]
     },
     "execution_count": 13,
     "metadata": {},
     "output_type": "execute_result"
    }
   ],
   "source": [
    "s1"
   ]
  },
  {
   "cell_type": "code",
   "execution_count": 14,
   "id": "aa6b9eda",
   "metadata": {},
   "outputs": [],
   "source": [
    "# 创建series\n",
    "s2=pd.Series([2,3,4],index=list('bcd'))"
   ]
  },
  {
   "cell_type": "code",
   "execution_count": 15,
   "id": "4c530311",
   "metadata": {},
   "outputs": [
    {
     "data": {
      "text/plain": [
       "b    2\n",
       "c    3\n",
       "d    4\n",
       "dtype: int64"
      ]
     },
     "execution_count": 15,
     "metadata": {},
     "output_type": "execute_result"
    }
   ],
   "source": [
    "s2"
   ]
  },
  {
   "cell_type": "code",
   "execution_count": 17,
   "id": "ce806641",
   "metadata": {},
   "outputs": [
    {
     "data": {
      "text/plain": [
       "a    NaN\n",
       "b    4.0\n",
       "c    6.0\n",
       "d    NaN\n",
       "dtype: float64"
      ]
     },
     "execution_count": 17,
     "metadata": {},
     "output_type": "execute_result"
    }
   ],
   "source": [
    "s1+s2"
   ]
  },
  {
   "cell_type": "markdown",
   "id": "6c360f5e",
   "metadata": {},
   "source": [
    "#### 4、使用index更多更强大的数据结构支持\n",
    "##### 很多强大的索引数据结构\n",
    "+ CategoricallIndex,基于分类数据的Index，提升性能；\n",
    "+ MultiIndex，多维索引，用于groupby多维聚合后结果等；\n",
    "+ DatetimeIndex，时间类型索引，强大的日期和时间的方法支持。"
   ]
  },
  {
   "cell_type": "code",
   "execution_count": null,
   "id": "ae733946",
   "metadata": {},
   "outputs": [],
   "source": []
  }
 ],
 "metadata": {
  "kernelspec": {
   "display_name": "Python 3 (ipykernel)",
   "language": "python",
   "name": "python3"
  },
  "language_info": {
   "codemirror_mode": {
    "name": "ipython",
    "version": 3
   },
   "file_extension": ".py",
   "mimetype": "text/x-python",
   "name": "python",
   "nbconvert_exporter": "python",
   "pygments_lexer": "ipython3",
   "version": "3.9.7"
  }
 },
 "nbformat": 4,
 "nbformat_minor": 5
}
