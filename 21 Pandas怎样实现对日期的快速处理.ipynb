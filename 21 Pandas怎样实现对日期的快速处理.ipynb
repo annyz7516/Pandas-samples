{
 "cells": [
  {
   "cell_type": "markdown",
   "id": "5b7ab0c0",
   "metadata": {},
   "source": [
    "#### Pandas怎样快捷方便的处理日期数据\n",
    "pandas日期处理的作用：将2018-01-01，1/1/2018等多种日期格式映射成统一的格式对象，在该对象上提供强大的功能支持\n",
    "\n",
    "几个概念：\n",
    "1. pd.to_datetime: pandas的一个函数，能将字符串，列表，series变成日期形式\n",
    "2. Timestamp：pandas表示日期的对象形式\n",
    "3. DatatimeIndex：pandas表示日期的对象列表形式\n",
    "\n",
    "其中：\n",
    "+ DatatimeIndex是Timestamp的列表形式\n",
    "+ pd.to_datetime对单个日期字符串处理会得到Timestamp\n",
    "+ pd.to_datetime对日期字符串列表处理会得到DatetimeIndex\n",
    "+ DatetimeIndex是Timestamp的列表"
   ]
  },
  {
   "cell_type": "markdown",
   "id": "563c7284",
   "metadata": {},
   "source": [
    "#### 问题：怎样统计每周，每月，每季度的最高温度？"
   ]
  },
  {
   "cell_type": "markdown",
   "id": "4ff6195d-b808-47be-a778-55e25d3ea13c",
   "metadata": {},
   "source": [
    "#### 1. 读取天气数据到dataframe"
   ]
  },
  {
   "cell_type": "code",
   "execution_count": 2,
   "id": "9d64a4e7-ae6e-4249-9f1d-9ed3911e9f4f",
   "metadata": {},
   "outputs": [],
   "source": [
    "import pandas as pd\n",
    "%matplotlib inline"
   ]
  },
  {
   "cell_type": "code",
   "execution_count": 3,
   "id": "610d79b8-2910-4432-ab53-a952c68b6546",
   "metadata": {},
   "outputs": [
    {
     "data": {
      "text/html": [
       "<div>\n",
       "<style scoped>\n",
       "    .dataframe tbody tr th:only-of-type {\n",
       "        vertical-align: middle;\n",
       "    }\n",
       "\n",
       "    .dataframe tbody tr th {\n",
       "        vertical-align: top;\n",
       "    }\n",
       "\n",
       "    .dataframe thead th {\n",
       "        text-align: right;\n",
       "    }\n",
       "</style>\n",
       "<table border=\"1\" class=\"dataframe\">\n",
       "  <thead>\n",
       "    <tr style=\"text-align: right;\">\n",
       "      <th></th>\n",
       "      <th>Date</th>\n",
       "      <th>TempHighF</th>\n",
       "      <th>TempAvgF</th>\n",
       "      <th>TempLowF</th>\n",
       "      <th>DewPointHighF</th>\n",
       "      <th>DewPointAvgF</th>\n",
       "      <th>DewPointLowF</th>\n",
       "      <th>HumidityHighPercent</th>\n",
       "      <th>HumidityAvgPercent</th>\n",
       "      <th>HumidityLowPercent</th>\n",
       "      <th>...</th>\n",
       "      <th>SeaLevelPressureAvgInches</th>\n",
       "      <th>SeaLevelPressureLowInches</th>\n",
       "      <th>VisibilityHighMiles</th>\n",
       "      <th>VisibilityAvgMiles</th>\n",
       "      <th>VisibilityLowMiles</th>\n",
       "      <th>WindHighMPH</th>\n",
       "      <th>WindAvgMPH</th>\n",
       "      <th>WindGustMPH</th>\n",
       "      <th>PrecipitationSumInches</th>\n",
       "      <th>Events</th>\n",
       "    </tr>\n",
       "  </thead>\n",
       "  <tbody>\n",
       "    <tr>\n",
       "      <th>0</th>\n",
       "      <td>2013-12-21</td>\n",
       "      <td>74</td>\n",
       "      <td>60</td>\n",
       "      <td>45</td>\n",
       "      <td>67</td>\n",
       "      <td>49</td>\n",
       "      <td>43</td>\n",
       "      <td>93</td>\n",
       "      <td>75</td>\n",
       "      <td>57</td>\n",
       "      <td>...</td>\n",
       "      <td>29.68</td>\n",
       "      <td>29.59</td>\n",
       "      <td>10</td>\n",
       "      <td>7</td>\n",
       "      <td>2</td>\n",
       "      <td>20</td>\n",
       "      <td>4</td>\n",
       "      <td>31</td>\n",
       "      <td>0.46</td>\n",
       "      <td>Rain , Thunderstorm</td>\n",
       "    </tr>\n",
       "    <tr>\n",
       "      <th>1</th>\n",
       "      <td>2013-12-22</td>\n",
       "      <td>56</td>\n",
       "      <td>48</td>\n",
       "      <td>39</td>\n",
       "      <td>43</td>\n",
       "      <td>36</td>\n",
       "      <td>28</td>\n",
       "      <td>93</td>\n",
       "      <td>68</td>\n",
       "      <td>43</td>\n",
       "      <td>...</td>\n",
       "      <td>30.13</td>\n",
       "      <td>29.87</td>\n",
       "      <td>10</td>\n",
       "      <td>10</td>\n",
       "      <td>5</td>\n",
       "      <td>16</td>\n",
       "      <td>6</td>\n",
       "      <td>25</td>\n",
       "      <td>0</td>\n",
       "      <td></td>\n",
       "    </tr>\n",
       "    <tr>\n",
       "      <th>2</th>\n",
       "      <td>2013-12-23</td>\n",
       "      <td>58</td>\n",
       "      <td>45</td>\n",
       "      <td>32</td>\n",
       "      <td>31</td>\n",
       "      <td>27</td>\n",
       "      <td>23</td>\n",
       "      <td>76</td>\n",
       "      <td>52</td>\n",
       "      <td>27</td>\n",
       "      <td>...</td>\n",
       "      <td>30.49</td>\n",
       "      <td>30.41</td>\n",
       "      <td>10</td>\n",
       "      <td>10</td>\n",
       "      <td>10</td>\n",
       "      <td>8</td>\n",
       "      <td>3</td>\n",
       "      <td>12</td>\n",
       "      <td>0</td>\n",
       "      <td></td>\n",
       "    </tr>\n",
       "    <tr>\n",
       "      <th>3</th>\n",
       "      <td>2013-12-24</td>\n",
       "      <td>61</td>\n",
       "      <td>46</td>\n",
       "      <td>31</td>\n",
       "      <td>36</td>\n",
       "      <td>28</td>\n",
       "      <td>21</td>\n",
       "      <td>89</td>\n",
       "      <td>56</td>\n",
       "      <td>22</td>\n",
       "      <td>...</td>\n",
       "      <td>30.45</td>\n",
       "      <td>30.3</td>\n",
       "      <td>10</td>\n",
       "      <td>10</td>\n",
       "      <td>7</td>\n",
       "      <td>12</td>\n",
       "      <td>4</td>\n",
       "      <td>20</td>\n",
       "      <td>0</td>\n",
       "      <td></td>\n",
       "    </tr>\n",
       "    <tr>\n",
       "      <th>4</th>\n",
       "      <td>2013-12-25</td>\n",
       "      <td>58</td>\n",
       "      <td>50</td>\n",
       "      <td>41</td>\n",
       "      <td>44</td>\n",
       "      <td>40</td>\n",
       "      <td>36</td>\n",
       "      <td>86</td>\n",
       "      <td>71</td>\n",
       "      <td>56</td>\n",
       "      <td>...</td>\n",
       "      <td>30.33</td>\n",
       "      <td>30.27</td>\n",
       "      <td>10</td>\n",
       "      <td>10</td>\n",
       "      <td>7</td>\n",
       "      <td>10</td>\n",
       "      <td>2</td>\n",
       "      <td>16</td>\n",
       "      <td>T</td>\n",
       "      <td></td>\n",
       "    </tr>\n",
       "  </tbody>\n",
       "</table>\n",
       "<p>5 rows × 21 columns</p>\n",
       "</div>"
      ],
      "text/plain": [
       "         Date  TempHighF  TempAvgF  TempLowF DewPointHighF DewPointAvgF  \\\n",
       "0  2013-12-21         74        60        45            67           49   \n",
       "1  2013-12-22         56        48        39            43           36   \n",
       "2  2013-12-23         58        45        32            31           27   \n",
       "3  2013-12-24         61        46        31            36           28   \n",
       "4  2013-12-25         58        50        41            44           40   \n",
       "\n",
       "  DewPointLowF HumidityHighPercent HumidityAvgPercent HumidityLowPercent  ...  \\\n",
       "0           43                  93                 75                 57  ...   \n",
       "1           28                  93                 68                 43  ...   \n",
       "2           23                  76                 52                 27  ...   \n",
       "3           21                  89                 56                 22  ...   \n",
       "4           36                  86                 71                 56  ...   \n",
       "\n",
       "  SeaLevelPressureAvgInches SeaLevelPressureLowInches VisibilityHighMiles  \\\n",
       "0                     29.68                     29.59                  10   \n",
       "1                     30.13                     29.87                  10   \n",
       "2                     30.49                     30.41                  10   \n",
       "3                     30.45                      30.3                  10   \n",
       "4                     30.33                     30.27                  10   \n",
       "\n",
       "  VisibilityAvgMiles VisibilityLowMiles WindHighMPH WindAvgMPH WindGustMPH  \\\n",
       "0                  7                  2          20          4          31   \n",
       "1                 10                  5          16          6          25   \n",
       "2                 10                 10           8          3          12   \n",
       "3                 10                  7          12          4          20   \n",
       "4                 10                  7          10          2          16   \n",
       "\n",
       "  PrecipitationSumInches               Events  \n",
       "0                   0.46  Rain , Thunderstorm  \n",
       "1                      0                       \n",
       "2                      0                       \n",
       "3                      0                       \n",
       "4                      T                       \n",
       "\n",
       "[5 rows x 21 columns]"
      ]
     },
     "execution_count": 3,
     "metadata": {},
     "output_type": "execute_result"
    }
   ],
   "source": [
    "fpath='./files/austin_weather.csv'\n",
    "df=pd.read_csv(fpath)\n",
    "df.head()"
   ]
  },
  {
   "cell_type": "code",
   "execution_count": 4,
   "id": "d45f96e3-3cf7-429d-8422-9125899a201c",
   "metadata": {},
   "outputs": [
    {
     "data": {
      "text/plain": [
       "Date                          object\n",
       "TempHighF                      int64\n",
       "TempAvgF                       int64\n",
       "TempLowF                       int64\n",
       "DewPointHighF                 object\n",
       "DewPointAvgF                  object\n",
       "DewPointLowF                  object\n",
       "HumidityHighPercent           object\n",
       "HumidityAvgPercent            object\n",
       "HumidityLowPercent            object\n",
       "SeaLevelPressureHighInches    object\n",
       "SeaLevelPressureAvgInches     object\n",
       "SeaLevelPressureLowInches     object\n",
       "VisibilityHighMiles           object\n",
       "VisibilityAvgMiles            object\n",
       "VisibilityLowMiles            object\n",
       "WindHighMPH                   object\n",
       "WindAvgMPH                    object\n",
       "WindGustMPH                   object\n",
       "PrecipitationSumInches        object\n",
       "Events                        object\n",
       "dtype: object"
      ]
     },
     "execution_count": 4,
     "metadata": {},
     "output_type": "execute_result"
    }
   ],
   "source": [
    "df.dtypes"
   ]
  },
  {
   "cell_type": "markdown",
   "id": "520f878e-074d-4728-9ef9-cd9bd90949b4",
   "metadata": {},
   "source": [
    "#### 2.将日期列转换成pandas的日期"
   ]
  },
  {
   "cell_type": "code",
   "execution_count": 5,
   "id": "0e8e4a46-5f02-4e95-bf1a-7e84f118245b",
   "metadata": {},
   "outputs": [
    {
     "data": {
      "text/html": [
       "<div>\n",
       "<style scoped>\n",
       "    .dataframe tbody tr th:only-of-type {\n",
       "        vertical-align: middle;\n",
       "    }\n",
       "\n",
       "    .dataframe tbody tr th {\n",
       "        vertical-align: top;\n",
       "    }\n",
       "\n",
       "    .dataframe thead th {\n",
       "        text-align: right;\n",
       "    }\n",
       "</style>\n",
       "<table border=\"1\" class=\"dataframe\">\n",
       "  <thead>\n",
       "    <tr style=\"text-align: right;\">\n",
       "      <th></th>\n",
       "      <th>Date</th>\n",
       "      <th>TempHighF</th>\n",
       "      <th>TempAvgF</th>\n",
       "      <th>TempLowF</th>\n",
       "      <th>DewPointHighF</th>\n",
       "      <th>DewPointAvgF</th>\n",
       "      <th>DewPointLowF</th>\n",
       "      <th>HumidityHighPercent</th>\n",
       "      <th>HumidityAvgPercent</th>\n",
       "      <th>HumidityLowPercent</th>\n",
       "      <th>...</th>\n",
       "      <th>SeaLevelPressureAvgInches</th>\n",
       "      <th>SeaLevelPressureLowInches</th>\n",
       "      <th>VisibilityHighMiles</th>\n",
       "      <th>VisibilityAvgMiles</th>\n",
       "      <th>VisibilityLowMiles</th>\n",
       "      <th>WindHighMPH</th>\n",
       "      <th>WindAvgMPH</th>\n",
       "      <th>WindGustMPH</th>\n",
       "      <th>PrecipitationSumInches</th>\n",
       "      <th>Events</th>\n",
       "    </tr>\n",
       "    <tr>\n",
       "      <th>Date</th>\n",
       "      <th></th>\n",
       "      <th></th>\n",
       "      <th></th>\n",
       "      <th></th>\n",
       "      <th></th>\n",
       "      <th></th>\n",
       "      <th></th>\n",
       "      <th></th>\n",
       "      <th></th>\n",
       "      <th></th>\n",
       "      <th></th>\n",
       "      <th></th>\n",
       "      <th></th>\n",
       "      <th></th>\n",
       "      <th></th>\n",
       "      <th></th>\n",
       "      <th></th>\n",
       "      <th></th>\n",
       "      <th></th>\n",
       "      <th></th>\n",
       "      <th></th>\n",
       "    </tr>\n",
       "  </thead>\n",
       "  <tbody>\n",
       "    <tr>\n",
       "      <th>2013-12-21</th>\n",
       "      <td>2013-12-21</td>\n",
       "      <td>74</td>\n",
       "      <td>60</td>\n",
       "      <td>45</td>\n",
       "      <td>67</td>\n",
       "      <td>49</td>\n",
       "      <td>43</td>\n",
       "      <td>93</td>\n",
       "      <td>75</td>\n",
       "      <td>57</td>\n",
       "      <td>...</td>\n",
       "      <td>29.68</td>\n",
       "      <td>29.59</td>\n",
       "      <td>10</td>\n",
       "      <td>7</td>\n",
       "      <td>2</td>\n",
       "      <td>20</td>\n",
       "      <td>4</td>\n",
       "      <td>31</td>\n",
       "      <td>0.46</td>\n",
       "      <td>Rain , Thunderstorm</td>\n",
       "    </tr>\n",
       "    <tr>\n",
       "      <th>2013-12-22</th>\n",
       "      <td>2013-12-22</td>\n",
       "      <td>56</td>\n",
       "      <td>48</td>\n",
       "      <td>39</td>\n",
       "      <td>43</td>\n",
       "      <td>36</td>\n",
       "      <td>28</td>\n",
       "      <td>93</td>\n",
       "      <td>68</td>\n",
       "      <td>43</td>\n",
       "      <td>...</td>\n",
       "      <td>30.13</td>\n",
       "      <td>29.87</td>\n",
       "      <td>10</td>\n",
       "      <td>10</td>\n",
       "      <td>5</td>\n",
       "      <td>16</td>\n",
       "      <td>6</td>\n",
       "      <td>25</td>\n",
       "      <td>0</td>\n",
       "      <td></td>\n",
       "    </tr>\n",
       "    <tr>\n",
       "      <th>2013-12-23</th>\n",
       "      <td>2013-12-23</td>\n",
       "      <td>58</td>\n",
       "      <td>45</td>\n",
       "      <td>32</td>\n",
       "      <td>31</td>\n",
       "      <td>27</td>\n",
       "      <td>23</td>\n",
       "      <td>76</td>\n",
       "      <td>52</td>\n",
       "      <td>27</td>\n",
       "      <td>...</td>\n",
       "      <td>30.49</td>\n",
       "      <td>30.41</td>\n",
       "      <td>10</td>\n",
       "      <td>10</td>\n",
       "      <td>10</td>\n",
       "      <td>8</td>\n",
       "      <td>3</td>\n",
       "      <td>12</td>\n",
       "      <td>0</td>\n",
       "      <td></td>\n",
       "    </tr>\n",
       "    <tr>\n",
       "      <th>2013-12-24</th>\n",
       "      <td>2013-12-24</td>\n",
       "      <td>61</td>\n",
       "      <td>46</td>\n",
       "      <td>31</td>\n",
       "      <td>36</td>\n",
       "      <td>28</td>\n",
       "      <td>21</td>\n",
       "      <td>89</td>\n",
       "      <td>56</td>\n",
       "      <td>22</td>\n",
       "      <td>...</td>\n",
       "      <td>30.45</td>\n",
       "      <td>30.3</td>\n",
       "      <td>10</td>\n",
       "      <td>10</td>\n",
       "      <td>7</td>\n",
       "      <td>12</td>\n",
       "      <td>4</td>\n",
       "      <td>20</td>\n",
       "      <td>0</td>\n",
       "      <td></td>\n",
       "    </tr>\n",
       "    <tr>\n",
       "      <th>2013-12-25</th>\n",
       "      <td>2013-12-25</td>\n",
       "      <td>58</td>\n",
       "      <td>50</td>\n",
       "      <td>41</td>\n",
       "      <td>44</td>\n",
       "      <td>40</td>\n",
       "      <td>36</td>\n",
       "      <td>86</td>\n",
       "      <td>71</td>\n",
       "      <td>56</td>\n",
       "      <td>...</td>\n",
       "      <td>30.33</td>\n",
       "      <td>30.27</td>\n",
       "      <td>10</td>\n",
       "      <td>10</td>\n",
       "      <td>7</td>\n",
       "      <td>10</td>\n",
       "      <td>2</td>\n",
       "      <td>16</td>\n",
       "      <td>T</td>\n",
       "      <td></td>\n",
       "    </tr>\n",
       "  </tbody>\n",
       "</table>\n",
       "<p>5 rows × 21 columns</p>\n",
       "</div>"
      ],
      "text/plain": [
       "                  Date  TempHighF  TempAvgF  TempLowF DewPointHighF  \\\n",
       "Date                                                                  \n",
       "2013-12-21  2013-12-21         74        60        45            67   \n",
       "2013-12-22  2013-12-22         56        48        39            43   \n",
       "2013-12-23  2013-12-23         58        45        32            31   \n",
       "2013-12-24  2013-12-24         61        46        31            36   \n",
       "2013-12-25  2013-12-25         58        50        41            44   \n",
       "\n",
       "           DewPointAvgF DewPointLowF HumidityHighPercent HumidityAvgPercent  \\\n",
       "Date                                                                          \n",
       "2013-12-21           49           43                  93                 75   \n",
       "2013-12-22           36           28                  93                 68   \n",
       "2013-12-23           27           23                  76                 52   \n",
       "2013-12-24           28           21                  89                 56   \n",
       "2013-12-25           40           36                  86                 71   \n",
       "\n",
       "           HumidityLowPercent  ... SeaLevelPressureAvgInches  \\\n",
       "Date                           ...                             \n",
       "2013-12-21                 57  ...                     29.68   \n",
       "2013-12-22                 43  ...                     30.13   \n",
       "2013-12-23                 27  ...                     30.49   \n",
       "2013-12-24                 22  ...                     30.45   \n",
       "2013-12-25                 56  ...                     30.33   \n",
       "\n",
       "           SeaLevelPressureLowInches VisibilityHighMiles VisibilityAvgMiles  \\\n",
       "Date                                                                          \n",
       "2013-12-21                     29.59                  10                  7   \n",
       "2013-12-22                     29.87                  10                 10   \n",
       "2013-12-23                     30.41                  10                 10   \n",
       "2013-12-24                      30.3                  10                 10   \n",
       "2013-12-25                     30.27                  10                 10   \n",
       "\n",
       "           VisibilityLowMiles WindHighMPH WindAvgMPH WindGustMPH  \\\n",
       "Date                                                               \n",
       "2013-12-21                  2          20          4          31   \n",
       "2013-12-22                  5          16          6          25   \n",
       "2013-12-23                 10           8          3          12   \n",
       "2013-12-24                  7          12          4          20   \n",
       "2013-12-25                  7          10          2          16   \n",
       "\n",
       "           PrecipitationSumInches               Events  \n",
       "Date                                                    \n",
       "2013-12-21                   0.46  Rain , Thunderstorm  \n",
       "2013-12-22                      0                       \n",
       "2013-12-23                      0                       \n",
       "2013-12-24                      0                       \n",
       "2013-12-25                      T                       \n",
       "\n",
       "[5 rows x 21 columns]"
      ]
     },
     "execution_count": 5,
     "metadata": {},
     "output_type": "execute_result"
    }
   ],
   "source": [
    "df.set_index(pd.to_datetime(df['Date']),inplace=True)\n",
    "df.head()"
   ]
  },
  {
   "cell_type": "code",
   "execution_count": 6,
   "id": "c3b00ef4-bf98-455b-90f5-d0c1dddf9e0d",
   "metadata": {},
   "outputs": [
    {
     "data": {
      "text/plain": [
       "DatetimeIndex(['2013-12-21', '2013-12-22', '2013-12-23', '2013-12-24',\n",
       "               '2013-12-25', '2013-12-26', '2013-12-27', '2013-12-28',\n",
       "               '2013-12-29', '2013-12-30',\n",
       "               ...\n",
       "               '2017-07-22', '2017-07-23', '2017-07-24', '2017-07-25',\n",
       "               '2017-07-26', '2017-07-27', '2017-07-28', '2017-07-29',\n",
       "               '2017-07-30', '2017-07-31'],\n",
       "              dtype='datetime64[ns]', name='Date', length=1319, freq=None)"
      ]
     },
     "execution_count": 6,
     "metadata": {},
     "output_type": "execute_result"
    }
   ],
   "source": [
    "df.index"
   ]
  },
  {
   "cell_type": "code",
   "execution_count": 8,
   "id": "3463955d-38af-4487-9c02-cd733ac6d300",
   "metadata": {},
   "outputs": [
    {
     "data": {
      "text/plain": [
       "Timestamp('2013-12-21 00:00:00')"
      ]
     },
     "execution_count": 8,
     "metadata": {},
     "output_type": "execute_result"
    }
   ],
   "source": [
    "df.index[0]"
   ]
  },
  {
   "cell_type": "markdown",
   "id": "77a2473b-9059-4ba6-8e17-c74cec86786b",
   "metadata": {},
   "source": [
    "#### 3、方便的对DatetimeIndex进行查询"
   ]
  },
  {
   "cell_type": "code",
   "execution_count": 10,
   "id": "a74d04bc-0e91-4bf8-9f34-0aecb5ca5b78",
   "metadata": {},
   "outputs": [
    {
     "data": {
      "text/plain": [
       "Date                                   2013-12-21\n",
       "TempHighF                                      74\n",
       "TempAvgF                                       60\n",
       "TempLowF                                       45\n",
       "DewPointHighF                                  67\n",
       "DewPointAvgF                                   49\n",
       "DewPointLowF                                   43\n",
       "HumidityHighPercent                            93\n",
       "HumidityAvgPercent                             75\n",
       "HumidityLowPercent                             57\n",
       "SeaLevelPressureHighInches                  29.86\n",
       "SeaLevelPressureAvgInches                   29.68\n",
       "SeaLevelPressureLowInches                   29.59\n",
       "VisibilityHighMiles                            10\n",
       "VisibilityAvgMiles                              7\n",
       "VisibilityLowMiles                              2\n",
       "WindHighMPH                                    20\n",
       "WindAvgMPH                                      4\n",
       "WindGustMPH                                    31\n",
       "PrecipitationSumInches                       0.46\n",
       "Events                        Rain , Thunderstorm\n",
       "Name: 2013-12-21 00:00:00, dtype: object"
      ]
     },
     "execution_count": 10,
     "metadata": {},
     "output_type": "execute_result"
    }
   ],
   "source": [
    "# 筛选固定的某一天\n",
    "df.loc['2013-12-21']"
   ]
  },
  {
   "cell_type": "code",
   "execution_count": 11,
   "id": "cab93c14-7864-418a-8169-f9ea9429eb1f",
   "metadata": {},
   "outputs": [
    {
     "data": {
      "text/html": [
       "<div>\n",
       "<style scoped>\n",
       "    .dataframe tbody tr th:only-of-type {\n",
       "        vertical-align: middle;\n",
       "    }\n",
       "\n",
       "    .dataframe tbody tr th {\n",
       "        vertical-align: top;\n",
       "    }\n",
       "\n",
       "    .dataframe thead th {\n",
       "        text-align: right;\n",
       "    }\n",
       "</style>\n",
       "<table border=\"1\" class=\"dataframe\">\n",
       "  <thead>\n",
       "    <tr style=\"text-align: right;\">\n",
       "      <th></th>\n",
       "      <th>Date</th>\n",
       "      <th>TempHighF</th>\n",
       "      <th>TempAvgF</th>\n",
       "      <th>TempLowF</th>\n",
       "      <th>DewPointHighF</th>\n",
       "      <th>DewPointAvgF</th>\n",
       "      <th>DewPointLowF</th>\n",
       "      <th>HumidityHighPercent</th>\n",
       "      <th>HumidityAvgPercent</th>\n",
       "      <th>HumidityLowPercent</th>\n",
       "      <th>...</th>\n",
       "      <th>SeaLevelPressureAvgInches</th>\n",
       "      <th>SeaLevelPressureLowInches</th>\n",
       "      <th>VisibilityHighMiles</th>\n",
       "      <th>VisibilityAvgMiles</th>\n",
       "      <th>VisibilityLowMiles</th>\n",
       "      <th>WindHighMPH</th>\n",
       "      <th>WindAvgMPH</th>\n",
       "      <th>WindGustMPH</th>\n",
       "      <th>PrecipitationSumInches</th>\n",
       "      <th>Events</th>\n",
       "    </tr>\n",
       "    <tr>\n",
       "      <th>Date</th>\n",
       "      <th></th>\n",
       "      <th></th>\n",
       "      <th></th>\n",
       "      <th></th>\n",
       "      <th></th>\n",
       "      <th></th>\n",
       "      <th></th>\n",
       "      <th></th>\n",
       "      <th></th>\n",
       "      <th></th>\n",
       "      <th></th>\n",
       "      <th></th>\n",
       "      <th></th>\n",
       "      <th></th>\n",
       "      <th></th>\n",
       "      <th></th>\n",
       "      <th></th>\n",
       "      <th></th>\n",
       "      <th></th>\n",
       "      <th></th>\n",
       "      <th></th>\n",
       "    </tr>\n",
       "  </thead>\n",
       "  <tbody>\n",
       "    <tr>\n",
       "      <th>2013-12-21</th>\n",
       "      <td>2013-12-21</td>\n",
       "      <td>74</td>\n",
       "      <td>60</td>\n",
       "      <td>45</td>\n",
       "      <td>67</td>\n",
       "      <td>49</td>\n",
       "      <td>43</td>\n",
       "      <td>93</td>\n",
       "      <td>75</td>\n",
       "      <td>57</td>\n",
       "      <td>...</td>\n",
       "      <td>29.68</td>\n",
       "      <td>29.59</td>\n",
       "      <td>10</td>\n",
       "      <td>7</td>\n",
       "      <td>2</td>\n",
       "      <td>20</td>\n",
       "      <td>4</td>\n",
       "      <td>31</td>\n",
       "      <td>0.46</td>\n",
       "      <td>Rain , Thunderstorm</td>\n",
       "    </tr>\n",
       "    <tr>\n",
       "      <th>2013-12-22</th>\n",
       "      <td>2013-12-22</td>\n",
       "      <td>56</td>\n",
       "      <td>48</td>\n",
       "      <td>39</td>\n",
       "      <td>43</td>\n",
       "      <td>36</td>\n",
       "      <td>28</td>\n",
       "      <td>93</td>\n",
       "      <td>68</td>\n",
       "      <td>43</td>\n",
       "      <td>...</td>\n",
       "      <td>30.13</td>\n",
       "      <td>29.87</td>\n",
       "      <td>10</td>\n",
       "      <td>10</td>\n",
       "      <td>5</td>\n",
       "      <td>16</td>\n",
       "      <td>6</td>\n",
       "      <td>25</td>\n",
       "      <td>0</td>\n",
       "      <td></td>\n",
       "    </tr>\n",
       "    <tr>\n",
       "      <th>2013-12-23</th>\n",
       "      <td>2013-12-23</td>\n",
       "      <td>58</td>\n",
       "      <td>45</td>\n",
       "      <td>32</td>\n",
       "      <td>31</td>\n",
       "      <td>27</td>\n",
       "      <td>23</td>\n",
       "      <td>76</td>\n",
       "      <td>52</td>\n",
       "      <td>27</td>\n",
       "      <td>...</td>\n",
       "      <td>30.49</td>\n",
       "      <td>30.41</td>\n",
       "      <td>10</td>\n",
       "      <td>10</td>\n",
       "      <td>10</td>\n",
       "      <td>8</td>\n",
       "      <td>3</td>\n",
       "      <td>12</td>\n",
       "      <td>0</td>\n",
       "      <td></td>\n",
       "    </tr>\n",
       "    <tr>\n",
       "      <th>2013-12-24</th>\n",
       "      <td>2013-12-24</td>\n",
       "      <td>61</td>\n",
       "      <td>46</td>\n",
       "      <td>31</td>\n",
       "      <td>36</td>\n",
       "      <td>28</td>\n",
       "      <td>21</td>\n",
       "      <td>89</td>\n",
       "      <td>56</td>\n",
       "      <td>22</td>\n",
       "      <td>...</td>\n",
       "      <td>30.45</td>\n",
       "      <td>30.3</td>\n",
       "      <td>10</td>\n",
       "      <td>10</td>\n",
       "      <td>7</td>\n",
       "      <td>12</td>\n",
       "      <td>4</td>\n",
       "      <td>20</td>\n",
       "      <td>0</td>\n",
       "      <td></td>\n",
       "    </tr>\n",
       "    <tr>\n",
       "      <th>2013-12-25</th>\n",
       "      <td>2013-12-25</td>\n",
       "      <td>58</td>\n",
       "      <td>50</td>\n",
       "      <td>41</td>\n",
       "      <td>44</td>\n",
       "      <td>40</td>\n",
       "      <td>36</td>\n",
       "      <td>86</td>\n",
       "      <td>71</td>\n",
       "      <td>56</td>\n",
       "      <td>...</td>\n",
       "      <td>30.33</td>\n",
       "      <td>30.27</td>\n",
       "      <td>10</td>\n",
       "      <td>10</td>\n",
       "      <td>7</td>\n",
       "      <td>10</td>\n",
       "      <td>2</td>\n",
       "      <td>16</td>\n",
       "      <td>T</td>\n",
       "      <td></td>\n",
       "    </tr>\n",
       "  </tbody>\n",
       "</table>\n",
       "<p>5 rows × 21 columns</p>\n",
       "</div>"
      ],
      "text/plain": [
       "                  Date  TempHighF  TempAvgF  TempLowF DewPointHighF  \\\n",
       "Date                                                                  \n",
       "2013-12-21  2013-12-21         74        60        45            67   \n",
       "2013-12-22  2013-12-22         56        48        39            43   \n",
       "2013-12-23  2013-12-23         58        45        32            31   \n",
       "2013-12-24  2013-12-24         61        46        31            36   \n",
       "2013-12-25  2013-12-25         58        50        41            44   \n",
       "\n",
       "           DewPointAvgF DewPointLowF HumidityHighPercent HumidityAvgPercent  \\\n",
       "Date                                                                          \n",
       "2013-12-21           49           43                  93                 75   \n",
       "2013-12-22           36           28                  93                 68   \n",
       "2013-12-23           27           23                  76                 52   \n",
       "2013-12-24           28           21                  89                 56   \n",
       "2013-12-25           40           36                  86                 71   \n",
       "\n",
       "           HumidityLowPercent  ... SeaLevelPressureAvgInches  \\\n",
       "Date                           ...                             \n",
       "2013-12-21                 57  ...                     29.68   \n",
       "2013-12-22                 43  ...                     30.13   \n",
       "2013-12-23                 27  ...                     30.49   \n",
       "2013-12-24                 22  ...                     30.45   \n",
       "2013-12-25                 56  ...                     30.33   \n",
       "\n",
       "           SeaLevelPressureLowInches VisibilityHighMiles VisibilityAvgMiles  \\\n",
       "Date                                                                          \n",
       "2013-12-21                     29.59                  10                  7   \n",
       "2013-12-22                     29.87                  10                 10   \n",
       "2013-12-23                     30.41                  10                 10   \n",
       "2013-12-24                      30.3                  10                 10   \n",
       "2013-12-25                     30.27                  10                 10   \n",
       "\n",
       "           VisibilityLowMiles WindHighMPH WindAvgMPH WindGustMPH  \\\n",
       "Date                                                               \n",
       "2013-12-21                  2          20          4          31   \n",
       "2013-12-22                  5          16          6          25   \n",
       "2013-12-23                 10           8          3          12   \n",
       "2013-12-24                  7          12          4          20   \n",
       "2013-12-25                  7          10          2          16   \n",
       "\n",
       "           PrecipitationSumInches               Events  \n",
       "Date                                                    \n",
       "2013-12-21                   0.46  Rain , Thunderstorm  \n",
       "2013-12-22                      0                       \n",
       "2013-12-23                      0                       \n",
       "2013-12-24                      0                       \n",
       "2013-12-25                      T                       \n",
       "\n",
       "[5 rows x 21 columns]"
      ]
     },
     "execution_count": 11,
     "metadata": {},
     "output_type": "execute_result"
    }
   ],
   "source": [
    "# 日期区间\n",
    "df.loc['2013-12-21':'2013-12-25']"
   ]
  },
  {
   "cell_type": "code",
   "execution_count": 12,
   "id": "43416495-bcf2-4c99-becc-df27d6849b11",
   "metadata": {},
   "outputs": [
    {
     "data": {
      "text/plain": [
       "DatetimeIndex(['2013-12-21', '2013-12-22', '2013-12-23', '2013-12-24',\n",
       "               '2013-12-25', '2013-12-26', '2013-12-27', '2013-12-28',\n",
       "               '2013-12-29', '2013-12-30', '2013-12-31'],\n",
       "              dtype='datetime64[ns]', name='Date', freq=None)"
      ]
     },
     "execution_count": 12,
     "metadata": {},
     "output_type": "execute_result"
    }
   ],
   "source": [
    "# 按月份前缀筛选\n",
    "df.loc['2013-12'].index"
   ]
  },
  {
   "cell_type": "code",
   "execution_count": 13,
   "id": "59a6f8ff-81aa-43fb-be39-fb69df271102",
   "metadata": {},
   "outputs": [
    {
     "data": {
      "text/plain": [
       "DatetimeIndex(['2013-12-21', '2013-12-22', '2013-12-23', '2013-12-24',\n",
       "               '2013-12-25', '2013-12-26', '2013-12-27', '2013-12-28',\n",
       "               '2013-12-29', '2013-12-30', '2013-12-31', '2014-01-01',\n",
       "               '2014-01-02', '2014-01-03', '2014-01-04', '2014-01-05',\n",
       "               '2014-01-06', '2014-01-07', '2014-01-08', '2014-01-09',\n",
       "               '2014-01-10', '2014-01-11', '2014-01-12', '2014-01-13',\n",
       "               '2014-01-14', '2014-01-15', '2014-01-16', '2014-01-17',\n",
       "               '2014-01-18', '2014-01-19', '2014-01-20', '2014-01-21',\n",
       "               '2014-01-22', '2014-01-23', '2014-01-24', '2014-01-25',\n",
       "               '2014-01-26', '2014-01-27', '2014-01-28', '2014-01-29',\n",
       "               '2014-01-30', '2014-01-31'],\n",
       "              dtype='datetime64[ns]', name='Date', freq=None)"
      ]
     },
     "execution_count": 13,
     "metadata": {},
     "output_type": "execute_result"
    }
   ],
   "source": [
    "# 按月份前缀筛选\n",
    "df.loc['2013-12':'2014-01'].index"
   ]
  },
  {
   "cell_type": "markdown",
   "id": "574edfdb-1bb1-41c0-b4e7-bc876d94a486",
   "metadata": {},
   "source": [
    "#### 4、方便的获取周，月，季度\n",
    "Timestamp、DatetimeIndex支持大量的属性可以获取日期分量："
   ]
  },
  {
   "cell_type": "code",
   "execution_count": 14,
   "id": "fed7bdf6-50c9-481f-b998-043de5558c5a",
   "metadata": {},
   "outputs": [
    {
     "name": "stderr",
     "output_type": "stream",
     "text": [
      "C:\\Users\\PXPXZ_~1\\AppData\\Local\\Temp/ipykernel_9072/1005759598.py:2: FutureWarning: weekofyear and week have been deprecated, please use DatetimeIndex.isocalendar().week instead, which returns a Series.  To exactly reproduce the behavior of week and weekofyear and return an Index, you may call pd.Int64Index(idx.isocalendar().week)\n",
      "  df.index.week\n"
     ]
    },
    {
     "data": {
      "text/plain": [
       "Int64Index([51, 51, 52, 52, 52, 52, 52, 52, 52,  1,\n",
       "            ...\n",
       "            29, 29, 30, 30, 30, 30, 30, 30, 30, 31],\n",
       "           dtype='int64', name='Date', length=1319)"
      ]
     },
     "execution_count": 14,
     "metadata": {},
     "output_type": "execute_result"
    }
   ],
   "source": [
    "# 周数字列表\n",
    "df.index.week"
   ]
  },
  {
   "cell_type": "code",
   "execution_count": 15,
   "id": "62ce35e9-3d7b-48ba-908a-ce162377d419",
   "metadata": {},
   "outputs": [
    {
     "data": {
      "text/plain": [
       "Int64Index([12, 12, 12, 12, 12, 12, 12, 12, 12, 12,\n",
       "            ...\n",
       "             7,  7,  7,  7,  7,  7,  7,  7,  7,  7],\n",
       "           dtype='int64', name='Date', length=1319)"
      ]
     },
     "execution_count": 15,
     "metadata": {},
     "output_type": "execute_result"
    }
   ],
   "source": [
    "# 月数字列表\n",
    "df.index.month"
   ]
  },
  {
   "cell_type": "code",
   "execution_count": 16,
   "id": "2cdd4ace-54cb-4637-8ff0-c0d5eb94792d",
   "metadata": {},
   "outputs": [
    {
     "data": {
      "text/plain": [
       "Int64Index([4, 4, 4, 4, 4, 4, 4, 4, 4, 4,\n",
       "            ...\n",
       "            3, 3, 3, 3, 3, 3, 3, 3, 3, 3],\n",
       "           dtype='int64', name='Date', length=1319)"
      ]
     },
     "execution_count": 16,
     "metadata": {},
     "output_type": "execute_result"
    }
   ],
   "source": [
    "# 季度数字列表\n",
    "df.index.quarter"
   ]
  },
  {
   "cell_type": "markdown",
   "id": "c66bf70c-64b9-4674-88ac-069792d289df",
   "metadata": {},
   "source": [
    "#### 5.统计每周，每月，每个季度的最高温度"
   ]
  },
  {
   "cell_type": "markdown",
   "id": "fd6ebbc6-a9c7-4981-9f38-856df4ce3b02",
   "metadata": {},
   "source": [
    "#### 统计每周的数据"
   ]
  },
  {
   "cell_type": "code",
   "execution_count": 23,
   "id": "f7e86897-8b2c-4021-9c6d-f099f708bc25",
   "metadata": {},
   "outputs": [
    {
     "name": "stderr",
     "output_type": "stream",
     "text": [
      "C:\\Users\\PXPXZ_~1\\AppData\\Local\\Temp/ipykernel_9072/1706040323.py:1: FutureWarning: weekofyear and week have been deprecated, please use DatetimeIndex.isocalendar().week instead, which returns a Series.  To exactly reproduce the behavior of week and weekofyear and return an Index, you may call pd.Int64Index(idx.isocalendar().week)\n",
      "  df.groupby(df.index.week)['TempHighF'].max().head()\n"
     ]
    },
    {
     "data": {
      "text/plain": [
       "Date\n",
       "1    75\n",
       "2    81\n",
       "3    81\n",
       "4    86\n",
       "5    83\n",
       "Name: TempHighF, dtype: int64"
      ]
     },
     "execution_count": 23,
     "metadata": {},
     "output_type": "execute_result"
    }
   ],
   "source": [
    "df.groupby(df.index.week)['TempHighF'].max().head()"
   ]
  },
  {
   "cell_type": "code",
   "execution_count": 24,
   "id": "b846d537-6258-4e48-ba82-44550de99f0b",
   "metadata": {},
   "outputs": [
    {
     "name": "stderr",
     "output_type": "stream",
     "text": [
      "C:\\Users\\PXPXZ_~1\\AppData\\Local\\Temp/ipykernel_9072/2108325996.py:1: FutureWarning: weekofyear and week have been deprecated, please use DatetimeIndex.isocalendar().week instead, which returns a Series.  To exactly reproduce the behavior of week and weekofyear and return an Index, you may call pd.Int64Index(idx.isocalendar().week)\n",
      "  df.groupby(df.index.week)['TempHighF'].max().plot()\n"
     ]
    },
    {
     "data": {
      "text/plain": [
       "<AxesSubplot:xlabel='Date'>"
      ]
     },
     "execution_count": 24,
     "metadata": {},
     "output_type": "execute_result"
    },
    {
     "data": {
      "image/png": "[encoded data removed]",
      "text/plain": [
       "<Figure size 432x288 with 1 Axes>"
      ]
     },
     "metadata": {
      "needs_background": "light"
     },
     "output_type": "display_data"
    }
   ],
   "source": [
    "df.groupby(df.index.week)['TempHighF'].max().plot()"
   ]
  },
  {
   "cell_type": "markdown",
   "id": "4d10ee85-c620-4af1-82aa-137988ccc82d",
   "metadata": {},
   "source": [
    "#### 统计每月的数据"
   ]
  },
  {
   "cell_type": "code",
   "execution_count": 25,
   "id": "b65ff436-eac0-4c70-baac-7cb8e25c47b2",
   "metadata": {},
   "outputs": [
    {
     "data": {
      "text/plain": [
       "Date\n",
       "1      86\n",
       "2      90\n",
       "3      92\n",
       "4      96\n",
       "5      97\n",
       "6     104\n",
       "7     107\n",
       "8     105\n",
       "9     101\n",
       "10     99\n",
       "11     91\n",
       "12     84\n",
       "Name: TempHighF, dtype: int64"
      ]
     },
     "execution_count": 25,
     "metadata": {},
     "output_type": "execute_result"
    }
   ],
   "source": [
    "df.groupby(df.index.month)['TempHighF'].max()"
   ]
  },
  {
   "cell_type": "code",
   "execution_count": 26,
   "id": "3924ff98-4518-4604-bd76-9645d3a794b0",
   "metadata": {},
   "outputs": [
    {
     "data": {
      "text/plain": [
       "<AxesSubplot:xlabel='Date'>"
      ]
     },
     "execution_count": 26,
     "metadata": {},
     "output_type": "execute_result"
    },
    {
     "data": {
      "image/png": "[encoded data removed]",
      "text/plain": [
       "<Figure size 432x288 with 1 Axes>"
      ]
     },
     "metadata": {
      "needs_background": "light"
     },
     "output_type": "display_data"
    }
   ],
   "source": [
    "df.groupby(df.index.month)['TempHighF'].max().plot()"
   ]
  },
  {
   "cell_type": "markdown",
   "id": "ca93c599-7e89-43fa-854d-0ec3a63aaf41",
   "metadata": {},
   "source": [
    "#### 统计每季度的数据"
   ]
  },
  {
   "cell_type": "code",
   "execution_count": 27,
   "id": "a47ba625-4a7e-4083-8c2b-36714f5b81b7",
   "metadata": {},
   "outputs": [
    {
     "data": {
      "text/plain": [
       "Date\n",
       "1     92\n",
       "2    104\n",
       "3    107\n",
       "4     99\n",
       "Name: TempHighF, dtype: int64"
      ]
     },
     "execution_count": 27,
     "metadata": {},
     "output_type": "execute_result"
    }
   ],
   "source": [
    "df.groupby(df.index.quarter)['TempHighF'].max()"
   ]
  },
  {
   "cell_type": "code",
   "execution_count": 28,
   "id": "4eee566a-c630-459e-bd8f-c75286029b24",
   "metadata": {},
   "outputs": [
    {
     "data": {
      "text/plain": [
       "<AxesSubplot:xlabel='Date'>"
      ]
     },
     "execution_count": 28,
     "metadata": {},
     "output_type": "execute_result"
    },
    {
     "data": {
      "image/png": "[encoded data removed]",
      "text/plain": [
       "<Figure size 432x288 with 1 Axes>"
      ]
     },
     "metadata": {
      "needs_background": "light"
     },
     "output_type": "display_data"
    }
   ],
   "source": [
    "df.groupby(df.index.quarter)['TempHighF'].max().plot()"
   ]
  },
  {
   "cell_type": "code",
   "execution_count": null,
   "id": "6c27f4e6-e88e-43c8-9105-34eab4adf84b",
   "metadata": {},
   "outputs": [],
   "source": []
  }
 ],
 "metadata": {
  "kernelspec": {
   "display_name": "Python 3 (ipykernel)",
   "language": "python",
   "name": "python3"
  },
  "language_info": {
   "codemirror_mode": {
    "name": "ipython",
    "version": 3
   },
   "file_extension": ".py",
   "mimetype": "text/x-python",
   "name": "python",
   "nbconvert_exporter": "python",
   "pygments_lexer": "ipython3",
   "version": "3.10.1"
  }
 },
 "nbformat": 4,
 "nbformat_minor": 5
}
